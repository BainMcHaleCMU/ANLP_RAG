{
  "cells": [
    {
      "cell_type": "markdown",
      "metadata": {
        "id": "zD1yLKdKMeFE"
      },
      "source": [
        "# Retreival System"
      ]
    },
    {
      "cell_type": "markdown",
      "metadata": {
        "id": "GxP8xdhRMeFF"
      },
      "source": [
        "This is based heavily on the tutorial from https://huggingface.co/learn/cookbook/en/advanced_rag as recommended in the course. We should probably credit it."
      ]
    },
    {
      "cell_type": "code",
      "source": [
        "!pip install -q langchain langchain-community transformers sentence-transformers faiss-gpu"
      ],
      "metadata": {
        "colab": {
          "base_uri": "https://localhost:8080/"
        },
        "id": "jmG3wBh7bE98",
        "outputId": "dac53b21-57d6-4bbf-ffe6-41f7511a9787"
      },
      "execution_count": 12,
      "outputs": [
        {
          "output_type": "stream",
          "name": "stdout",
          "text": [
            "\u001b[?25l   \u001b[90m━━━━━━━━━━━━━━━━━━━━━━━━━━━━━━━━━━━━━━━━\u001b[0m \u001b[32m0.0/2.4 MB\u001b[0m \u001b[31m?\u001b[0m eta \u001b[36m-:--:--\u001b[0m\r\u001b[2K   \u001b[91m━━━━━━━━━━━━━━━━━━\u001b[0m\u001b[90m╺\u001b[0m\u001b[90m━━━━━━━━━━━━━━━━━━━━━\u001b[0m \u001b[32m1.1/2.4 MB\u001b[0m \u001b[31m32.0 MB/s\u001b[0m eta \u001b[36m0:00:01\u001b[0m\r\u001b[2K   \u001b[90m━━━━━━━━━━━━━━━━━━━━━━━━━━━━━━━━━━━━━━━━\u001b[0m \u001b[32m2.4/2.4 MB\u001b[0m \u001b[31m39.5 MB/s\u001b[0m eta \u001b[36m0:00:00\u001b[0m\n",
            "\u001b[?25h\u001b[?25l   \u001b[90m━━━━━━━━━━━━━━━━━━━━━━━━━━━━━━━━━━━━━━━━\u001b[0m \u001b[32m0.0/49.5 kB\u001b[0m \u001b[31m?\u001b[0m eta \u001b[36m-:--:--\u001b[0m\r\u001b[2K   \u001b[90m━━━━━━━━━━━━━━━━━━━━━━━━━━━━━━━━━━━━━━━━\u001b[0m \u001b[32m49.5/49.5 kB\u001b[0m \u001b[31m4.2 MB/s\u001b[0m eta \u001b[36m0:00:00\u001b[0m\n",
            "\u001b[?25h"
          ]
        }
      ]
    },
    {
      "cell_type": "code",
      "source": [
        "from langchain.vectorstores import FAISS\n",
        "from langchain.embeddings import HuggingFaceEmbeddings\n",
        "from langchain.text_splitter import RecursiveCharacterTextSplitter\n",
        "import pandas as pd"
      ],
      "metadata": {
        "id": "aniJEiDdb7ZZ"
      },
      "execution_count": 17,
      "outputs": []
    },
    {
      "cell_type": "code",
      "source": [
        "# To get the value of the max sequence_length, we will query the underlying `SentenceTransformer` object used for embeddings\n",
        "print(f\"Model's maximum sequence length: {SentenceTransformer('all-mpnet-base-v2').max_seq_length}\")"
      ],
      "metadata": {
        "colab": {
          "base_uri": "https://localhost:8080/"
        },
        "id": "CBsNAPtKiiZM",
        "outputId": "bc616517-aef9-4b4b-8f16-2ad03ec89188"
      },
      "execution_count": 66,
      "outputs": [
        {
          "output_type": "stream",
          "name": "stdout",
          "text": [
            "Model's maximum sequence length: 384\n"
          ]
        }
      ]
    },
    {
      "cell_type": "code",
      "source": [
        "# Load data\n",
        "df = pd.read_csv('general_info.csv')\n",
        "\n",
        "# Initialize embeddings\n",
        "# embeddings = HuggingFaceEmbeddings(model_name='sentence-transformers/all-mpnet-base-v2')\n",
        "embedding_model = HuggingFaceEmbeddings(\n",
        "    model_name=\"sentence-transformers/all-mpnet-base-v2\",\n",
        "    multi_process=True,\n",
        "    model_kwargs={\"device\": \"cuda\"},\n",
        "    encode_kwargs={\"normalize_embeddings\": True},  # Set `True` for cosine similarity\n",
        ")\n",
        "\n",
        "# Split text into chunks\n",
        "TEXT_SEPARATORS = [\n",
        "    \"\\n\\n\",\n",
        "    \"\\n\",\n",
        "    \".\"\n",
        "    \" \",\n",
        "    \"\",\n",
        "]\n",
        "\n",
        "text_splitter = RecursiveCharacterTextSplitter(\n",
        "    chunk_size=384-64, # selected to stay under 384 max size for all-mpnet-base-v2\n",
        "    chunk_overlap=50, # arbitrarily pick how much across chunks\n",
        "    add_start_index=True,  # If `True`, includes chunk's start index in metadata\n",
        "    strip_whitespace=True,  # If `True`, strips whitespace from the start and end of every document\n",
        "    separators=TEXT_SEPARATORS,\n",
        ")\n",
        "texts = []\n",
        "metadatas = []\n",
        "\n",
        "for _, row in df.iterrows():\n",
        "    try:\n",
        "      chunks = text_splitter.split_text(row['text'])\n",
        "      texts.extend(chunks)\n",
        "      metadatas.extend([{'source': row['source']}] * len(chunks))\n",
        "    except:\n",
        "      print(f\"source {row['source']} corrupted\")"
      ],
      "metadata": {
        "colab": {
          "base_uri": "https://localhost:8080/"
        },
        "id": "oZlCrH_Sb8mF",
        "outputId": "f61bb3d0-5b00-47d4-e05a-0ed61b00a658"
      },
      "execution_count": 70,
      "outputs": [
        {
          "output_type": "stream",
          "name": "stderr",
          "text": [
            "/usr/local/lib/python3.10/dist-packages/transformers/tokenization_utils_base.py:1601: FutureWarning: `clean_up_tokenization_spaces` was not set. It will be set to `True` by default. This behavior will be depracted in transformers v4.45, and will be then set to `False` by default. For more details check this issue: https://github.com/huggingface/transformers/issues/31884\n",
            "  warnings.warn(\n"
          ]
        },
        {
          "output_type": "stream",
          "name": "stdout",
          "text": [
            "source https://onestoppgh.pittsburghpa.gov/pghprod/pub/lms/Login.aspx corrupted\n",
            "source https://www.cmu.edu/dietrich/rss-feeds/news-rss.rss corrupted\n"
          ]
        }
      ]
    },
    {
      "cell_type": "code",
      "source": [
        "lengths = [len(text) for text in texts]\n",
        "\n",
        "# Plot the distribution of text lengths, counted as the number of tokens\n",
        "import matplotlib.pyplot as plt\n",
        "fig = pd.Series(lengths).hist()\n",
        "plt.title(\"Distribution of document lengths in the knowledge base (in count of tokens)\")\n",
        "plt.show()"
      ],
      "metadata": {
        "colab": {
          "base_uri": "https://localhost:8080/",
          "height": 452
        },
        "id": "lLYIznRkeDQ4",
        "outputId": "860392b5-072c-413b-97d0-d36fd8f34d65"
      },
      "execution_count": 71,
      "outputs": [
        {
          "output_type": "display_data",
          "data": {
            "text/plain": [
              "<Figure size 640x480 with 1 Axes>"
            ],
            "image/png": "[encoded data removed]"
          },
          "metadata": {}
        }
      ]
    },
    {
      "cell_type": "code",
      "source": [
        "# Create FAISS index\n",
        "vectorstore = FAISS.from_texts(texts, embeddings, metadatas=metadatas, distance_strategy=DistanceStrategy.COSINE)"
      ],
      "metadata": {
        "id": "rAD62n3cb-6y"
      },
      "execution_count": 72,
      "outputs": []
    },
    {
      "cell_type": "code",
      "source": [
        "# Define retrieval function\n",
        "def retrieve_top_k(query, k=5):\n",
        "    results = vectorstore.similarity_search(query, k=k)\n",
        "    return [(res.page_content, res.metadata['source']) for res in results]"
      ],
      "metadata": {
        "id": "Ny1a2lZJcDIC"
      },
      "execution_count": 73,
      "outputs": []
    },
    {
      "cell_type": "code",
      "source": [
        "# Example usage\n",
        "query = \"How many championships have the Penguins won?\"\n",
        "top_chunks = retrieve_top_k(query, k=5)\n",
        "for i, (text, source) in enumerate(top_chunks, 1):\n",
        "    print(f\"\\nResult {i}:\")\n",
        "    print(f\"Source: {source}\")\n",
        "    print(f\"Text: {text}\\n\")"
      ],
      "metadata": {
        "colab": {
          "base_uri": "https://localhost:8080/"
        },
        "id": "lIjYNyOCa_g9",
        "outputId": "7dd159c8-0381-42de-88aa-cc43bc7bff75"
      },
      "execution_count": 81,
      "outputs": [
        {
          "output_type": "stream",
          "name": "stdout",
          "text": [
            "\n",
            "Result 1:\n",
            "Source: https://en.wikipedia.org/wiki/Pittsburgh_Penguins\n",
            "Text: Penguins winning three (2008 Eastern Conference Finals, 4–1; 2009 Eastern Conference Quarterfinals, 4–2; and 2018 Eastern Conference First Round, 4–2).\n",
            "\n",
            "\n",
            "Result 2:\n",
            "Source: https://en.wikipedia.org/wiki/Pittsburgh_Penguins\n",
            "Text: Founded during the 1967 expansion, the Penguins have qualified for six Stanley Cup Finals, winning the Stanley Cup five times – in 1991, 1992, 2009, 2016, and 2017. Along with the Edmonton Oilers, the Penguins are tied for the most Stanley Cup championships among the non-Original Six teams and sixth overall\n",
            "\n",
            "\n",
            "Result 3:\n",
            "Source: https://en.wikipedia.org/wiki/Pittsburgh_Penguins\n",
            "Text: lers (ECHL)Stanley Cups5 (1990–91, 1991–92, 2008–09, 2015–16, 2016–17)Conference championships6 (1990–91, 1991–92, 2007–08, 2008–09, 2015–16, 2016–17)Presidents' Trophy1 (1992–93)Division championships9 (1990–91, 1992–93, 1993–94, 1995–96, 1997–98, 2007–08, 2012–13, 2013–14, 2020–21)Official websitenhl.com/penguins\n",
            "\n",
            "\n",
            "Result 4:\n",
            "Source: https://en.wikipedia.org/wiki/Pittsburgh\n",
            "Text: The NHL's Pittsburgh Penguins have played in Pittsburgh since the team's founding in 1967. The team has won 6 Eastern Conference titles (1991, 1992, 2008, 2009, 2016 and 2017) and 5 Stanley Cup championships (1991, 1992, 2009, 2016 and 2017)\n",
            "\n",
            "\n",
            "Result 5:\n",
            "Source: https://en.wikipedia.org/wiki/Pittsburgh_Penguins\n",
            "Text: Runner–up and Third Stanley Cup title (2006–2010)\n",
            "\n"
          ]
        }
      ]
    }
  ],
  "metadata": {
    "kernelspec": {
      "display_name": "Python 3",
      "name": "python3"
    },
    "language_info": {
      "codemirror_mode": {
        "name": "ipython",
        "version": 3
      },
      "file_extension": ".py",
      "mimetype": "text/x-python",
      "name": "python",
      "nbconvert_exporter": "python",
      "pygments_lexer": "ipython3",
      "version": "3.9.13"
    },
    "colab": {
      "provenance": [],
      "gpuType": "T4"
    },
    "accelerator": "GPU"
  },
  "nbformat": 4,
  "nbformat_minor": 0
}