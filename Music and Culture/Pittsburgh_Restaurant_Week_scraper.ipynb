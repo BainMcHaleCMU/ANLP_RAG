{
  "nbformat": 4,
  "nbformat_minor": 0,
  "metadata": {
    "colab": {
      "provenance": []
    },
    "kernelspec": {
      "name": "python3",
      "display_name": "Python 3"
    },
    "language_info": {
      "name": "python"
    }
  },
  "cells": [
    {
      "cell_type": "code",
      "execution_count": 1,
      "metadata": {
        "colab": {
          "base_uri": "https://localhost:8080/",
          "height": 35
        },
        "id": "hzDFrQu_R6lC",
        "outputId": "238a4d32-ef38-4ad3-bee1-c5cfe2378a52"
      },
      "outputs": [
        {
          "output_type": "execute_result",
          "data": {
            "text/plain": [
              "'Pittsburgh Restaurant Week data.csv'"
            ],
            "application/vnd.google.colaboratory.intrinsic+json": {
              "type": "string"
            }
          },
          "metadata": {},
          "execution_count": 1
        }
      ],
      "source": [
        "import requests\n",
        "from bs4 import BeautifulSoup\n",
        "import csv\n",
        "\n",
        "# Function to scrape and return page content\n",
        "def scrape_page(url):\n",
        "    headers = {\n",
        "        \"User-Agent\": \"Mozilla/5.0 (Windows NT 10.0; Win64; x64) AppleWebKit/537.36 (KHTML, like Gecko) Chrome/58.0.3029.110 Safari/537.3\"\n",
        "    }\n",
        "    response = requests.get(url, headers=headers)\n",
        "    if response.status_code == 200:\n",
        "        soup = BeautifulSoup(response.text, 'html.parser')\n",
        "        # Extract relevant content, e.g., paragraphs\n",
        "        paragraphs = soup.find_all('p')\n",
        "        content = \"\\n\".join([p.get_text(strip=True) for p in paragraphs])\n",
        "        return content\n",
        "    else:\n",
        "        print(f\"Failed to retrieve {url}. Status code: {response.status_code}\")\n",
        "        return None\n",
        "\n",
        "# List of pages to scrape\n",
        "pages = {\n",
        "    \"Get Involved\": \"https://pittsburghrestaurantweek.com/registration/\",\n",
        "    \"Join Newsletter\": \"https://pittsburghrestaurantweek.com/newsletter/\",\n",
        "    \"Restaurant Registration\": \"https://pittsburghrestaurantweek.com/register/\",\n",
        "    \"Suggest A Restaurant\": \"https://pittsburghrestaurantweek.com/restaurants/suggest-a-restaurant/\",\n",
        "    \"Sponsor the Celebration\": \"https://pittsburghrestaurantweek.com/sponsor-the-celebration/\",\n",
        "    \"Submit Restaurant Menu\": \"https://pittsburghrestaurantweek.com/submit-my-menu/\",\n",
        "    \"Restaurants\": \"https://pittsburghrestaurantweek.com/restaurants/\",\n",
        "    \"Restaurant Roulette\": \"https://pittsburghrestaurantweek.com/restaurants/restaurant-roulette/\"\n",
        "}\n",
        "\n",
        "# Scrape and save content to CSV\n",
        "output_file = 'Pittsburgh Restaurant Week data.csv'\n",
        "with open(output_file, mode='w', newline='', encoding='utf-8') as file:\n",
        "    writer = csv.writer(file)\n",
        "    writer.writerow([\"Page Name\", \"URL\", \"Scraped Content\"])\n",
        "\n",
        "    for page_name, page_url in pages.items():\n",
        "        content = scrape_page(page_url)\n",
        "        if content:\n",
        "            writer.writerow([page_name, page_url, content])\n",
        "\n",
        "output_file\n"
      ]
    },
    {
      "cell_type": "code",
      "source": [],
      "metadata": {
        "id": "v5a7vfpkSNMT"
      },
      "execution_count": null,
      "outputs": []
    }
  ]
}