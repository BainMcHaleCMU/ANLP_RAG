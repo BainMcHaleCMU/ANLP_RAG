{
  "nbformat": 4,
  "nbformat_minor": 0,
  "metadata": {
    "colab": {
      "provenance": []
    },
    "kernelspec": {
      "name": "python3",
      "display_name": "Python 3"
    },
    "language_info": {
      "name": "python"
    }
  },
  "cells": [
    {
      "cell_type": "code",
      "execution_count": null,
      "metadata": {
        "colab": {
          "base_uri": "https://localhost:8080/"
        },
        "id": "M-BxckT7Eir2",
        "outputId": "4e9d21d7-326d-4d8d-a8e4-2db64f4e4a20"
      },
      "outputs": [
        {
          "output_type": "stream",
          "name": "stdout",
          "text": [
            "Data saved to about.txt\n",
            "Data saved to opera_mythbusting.txt\n",
            "Data saved to mission_&_history.txt\n",
            "Data saved to idea.txt\n",
            "Data saved to financial_documents.txt\n",
            "Data saved to seasons.txt\n",
            "Data saved to tosca.txt\n",
            "Data saved to tickets.txt\n",
            "Data saved to group_tickets.txt\n",
            "Data saved to support.txt\n",
            "Data saved to ways_to_give.txt\n",
            "Data saved to education.txt\n",
            "Data saved to resident_artists.txt\n",
            "Data saved to our_team.txt\n",
            "Data saved to bitz_opera_factory.txt\n"
          ]
        }
      ],
      "source": [
        "import requests\n",
        "from bs4 import BeautifulSoup\n",
        "from urllib.parse import urljoin\n",
        "\n",
        "# Function to scrape a page and save content to a text file\n",
        "def scrape_page(url, output_file):\n",
        "    headers = {\n",
        "        \"User-Agent\": \"Mozilla/5.0 (Windows NT 10.0; Win64; x64) AppleWebKit/537.36 (KHTML, like Gecko) Chrome/58.0.3029.110 Safari/537.3\"\n",
        "    }\n",
        "\n",
        "    response = requests.get(url, headers=headers)\n",
        "\n",
        "    if response.status_code == 200:\n",
        "        soup = BeautifulSoup(response.text, 'html.parser')\n",
        "\n",
        "        # Extract relevant page content (depends on the structure of the page)\n",
        "        # Here we extract all paragraphs as a simple example\n",
        "        paragraphs = soup.find_all('p')\n",
        "        content = \"\\n\".join([p.get_text(strip=True) for p in paragraphs])\n",
        "\n",
        "        # Save the content to a text file\n",
        "        with open(output_file, 'w', encoding='utf-8') as file:\n",
        "            file.write(content)\n",
        "        print(f\"Data saved to {output_file}\")\n",
        "    else:\n",
        "        print(f\"Failed to retrieve {url}. Status code: {response.status_code}\")\n",
        "\n",
        "# List of URLs from the Pittsburgh Opera navigation menu\n",
        "pages = {\n",
        "    \"About\": \"https://pittsburghopera.org/about?hsLang=en\",\n",
        "    \"Opera Mythbusting\": \"https://pittsburghopera.org/about/operamyths/?hsLang=en\",\n",
        "    \"Mission & History\": \"https://pittsburghopera.org/about/mission-history?hsLang=en\",\n",
        "    \"IDEA\": \"https://pittsburghopera.org/about/inclusion-diversity-equity-accessibility-idea/?hsLang=en\",\n",
        "    \"Financial Documents\": \"https://pittsburghopera.org/about/financial-documents?hsLang=en\",\n",
        "    \"Seasons\": \"https://pittsburghopera.org/season?hsLang=en\",\n",
        "    \"TOSCA\": \"https://pittsburghopera.org/season/tosca?hsLang=en\",\n",
        "    # \"Cavalleria Rusticana/Pagliacci\": \"https://pittsburghopera.org/season/cavalleria-rusticana-pagliacci?hsLang=en\",\n",
        "    \"Tickets\": \"https://pittsburghopera.org/tickets?hsLang=en\",\n",
        "    \"Group Tickets\": \"https://pittsburghopera.org/tickets/groups-tickets?hsLang=en\",\n",
        "    \"Support\": \"https://pittsburghopera.org/support?hsLang=en\",\n",
        "    \"Ways to Give\": \"https://pittsburghopera.org/support/ways-to-give?hsLang=en\",\n",
        "    \"Education\": \"https://pittsburghopera.org/education?hsLang=en\",\n",
        "    \"Resident Artists\": \"https://pittsburghopera.org/resident-artists?hsLang=en\",\n",
        "    \"Our Team\": \"https://pittsburghopera.org/our-team?hsLang=en\",\n",
        "    \"Bitz Opera Factory\": \"https://pittsburghopera.org/facilities/pittsburgh-opera-headquarters/?hsLang=en\",\n",
        "}\n",
        "\n",
        "# Loop through each URL and scrape the content\n",
        "for page_name, page_url in pages.items():\n",
        "    output_filename = f\"{page_name.replace(' ', '_').lower()}.txt\"\n",
        "    scrape_page(page_url, output_filename)\n"
      ]
    },
    {
      "cell_type": "code",
      "source": [
        "import requests\n",
        "from bs4 import BeautifulSoup\n",
        "import csv\n",
        "\n",
        "# Function to scrape and return page content\n",
        "def scrape_page(url):\n",
        "    headers = {\n",
        "        \"User-Agent\": \"Mozilla/5.0 (Windows NT 10.0; Win64; x64) AppleWebKit/537.36 (KHTML, like Gecko) Chrome/58.0.3029.110 Safari/537.3\"\n",
        "    }\n",
        "    response = requests.get(url, headers=headers)\n",
        "    if response.status_code == 200:\n",
        "        soup = BeautifulSoup(response.text, 'html.parser')\n",
        "        # Extract relevant content, e.g., paragraphs\n",
        "        paragraphs = soup.find_all('p')\n",
        "        content = \"\\n\".join([p.get_text(strip=True) for p in paragraphs])\n",
        "        return content\n",
        "    else:\n",
        "        print(f\"Failed to retrieve {url}. Status code: {response.status_code}\")\n",
        "        return None\n",
        "\n",
        "# List of pages to scrape\n",
        "pages = {\n",
        "    \"About\": \"https://pittsburghopera.org/about?hsLang=en\",\n",
        "    \"Opera Mythbusting\": \"https://pittsburghopera.org/about/operamyths/?hsLang=en\",\n",
        "    \"Mission & History\": \"https://pittsburghopera.org/about/mission-history?hsLang=en\",\n",
        "    \"IDEA\": \"https://pittsburghopera.org/about/inclusion-diversity-equity-accessibility-idea/?hsLang=en\",\n",
        "    \"Financial Documents\": \"https://pittsburghopera.org/about/financial-documents?hsLang=en\",\n",
        "    \"Seasons\": \"https://pittsburghopera.org/season?hsLang=en\",\n",
        "    \"TOSCA\": \"https://pittsburghopera.org/season/tosca?hsLang=en\",\n",
        "    # \"Cavalleria Rusticana/Pagliacci\": \"https://pittsburghopera.org/season/cavalleria-rusticana-pagliacci?hsLang=en\",\n",
        "    \"Tickets\": \"https://pittsburghopera.org/tickets?hsLang=en\",\n",
        "    \"Group Tickets\": \"https://pittsburghopera.org/tickets/groups-tickets?hsLang=en\",\n",
        "    \"Support\": \"https://pittsburghopera.org/support?hsLang=en\",\n",
        "    \"Ways to Give\": \"https://pittsburghopera.org/support/ways-to-give?hsLang=en\",\n",
        "    \"Education\": \"https://pittsburghopera.org/education?hsLang=en\",\n",
        "    \"Resident Artists\": \"https://pittsburghopera.org/resident-artists?hsLang=en\",\n",
        "    \"Our Team\": \"https://pittsburghopera.org/our-team?hsLang=en\",\n",
        "    \"Bitz Opera Factory\": \"https://pittsburghopera.org/facilities/pittsburgh-opera-headquarters/?hsLang=en\",\n",
        "}\n",
        "\n",
        "# Scrape and save content to CSV\n",
        "output_file = 'pittsburghopera_data.csv'\n",
        "with open(output_file, mode='w', newline='', encoding='utf-8') as file:\n",
        "    writer = csv.writer(file)\n",
        "    writer.writerow([\"Page Name\", \"URL\", \"Scraped Content\"])\n",
        "\n",
        "    for page_name, page_url in pages.items():\n",
        "        content = scrape_page(page_url)\n",
        "        if content:\n",
        "            writer.writerow([page_name, page_url, content])\n",
        "\n",
        "output_file\n"
      ],
      "metadata": {
        "id": "eB_IQrmYEn9I",
        "colab": {
          "base_uri": "https://localhost:8080/",
          "height": 35
        },
        "outputId": "45c963a5-5faa-4c52-eb90-3353d3ea1d6a"
      },
      "execution_count": 2,
      "outputs": [
        {
          "output_type": "execute_result",
          "data": {
            "text/plain": [
              "'pittsburghopera_data.csv'"
            ],
            "application/vnd.google.colaboratory.intrinsic+json": {
              "type": "string"
            }
          },
          "metadata": {},
          "execution_count": 2
        }
      ]
    },
    {
      "cell_type": "code",
      "source": [],
      "metadata": {
        "id": "961A3xE17xqV"
      },
      "execution_count": null,
      "outputs": []
    }
  ]
}