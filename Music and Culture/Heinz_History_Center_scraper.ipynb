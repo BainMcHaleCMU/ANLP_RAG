{
  "nbformat": 4,
  "nbformat_minor": 0,
  "metadata": {
    "colab": {
      "provenance": []
    },
    "kernelspec": {
      "name": "python3",
      "display_name": "Python 3"
    },
    "language_info": {
      "name": "python"
    }
  },
  "cells": [
    {
      "cell_type": "code",
      "execution_count": null,
      "metadata": {
        "colab": {
          "base_uri": "https://localhost:8080/"
        },
        "id": "n6b5zPEJKMo6",
        "outputId": "dee185f6-3f00-4e6c-bf60-a8568ecfb295"
      },
      "outputs": [
        {
          "output_type": "stream",
          "name": "stdout",
          "text": [
            "Data saved to visit.txt\n",
            "Data saved to heinz_history_center.txt\n",
            "Data saved to western_pa_sports_museum.txt\n",
            "Data saved to fort_pitt_museum.txt\n",
            "Data saved to meadowcroft_rockshelter.txt\n",
            "Data saved to what's_on.txt\n",
            "Data saved to event_calendar.txt\n",
            "Data saved to research.txt\n",
            "Data saved to detre_library_&_archives.txt\n",
            "Data saved to join_&_give.txt\n",
            "Data saved to learn.txt\n",
            "Data saved to about.txt\n"
          ]
        }
      ],
      "source": [
        "import requests\n",
        "from bs4 import BeautifulSoup\n",
        "\n",
        "# Function to scrape a page and save content to a text file\n",
        "def scrape_page(url, output_file):\n",
        "    headers = {\n",
        "        \"User-Agent\": \"Mozilla/5.0 (Windows NT 10.0; Win64; x64) AppleWebKit/537.36 (KHTML, like Gecko) Chrome/58.0.3029.110 Safari/537.3\"\n",
        "    }\n",
        "\n",
        "    response = requests.get(url, headers=headers)\n",
        "\n",
        "    if response.status_code == 200:\n",
        "        soup = BeautifulSoup(response.text, 'html.parser')\n",
        "\n",
        "        # Extract relevant content (assuming paragraphs as example)\n",
        "        paragraphs = soup.find_all('p')\n",
        "        content = \"\\n\".join([p.get_text(strip=True) for p in paragraphs])\n",
        "\n",
        "        # Save the content to a text file\n",
        "        with open(output_file, 'w', encoding='utf-8') as file:\n",
        "            file.write(content)\n",
        "        print(f\"Data saved to {output_file}\")\n",
        "    else:\n",
        "        print(f\"Failed to retrieve {url}. Status code: {response.status_code}\")\n",
        "\n",
        "# List of URLs from Heinz History Center navigation\n",
        "pages = {\n",
        "    \"Visit\": \"https://www.heinzhistorycenter.org/visit/\",\n",
        "    \"Heinz History Center\": \"https://www.heinzhistorycenter.org/visit/heinz-history-center/\",\n",
        "    \"Western PA Sports Museum\": \"https://www.heinzhistorycenter.org/visit/sports-museum/\",\n",
        "    \"Fort Pitt Museum\": \"https://www.heinzhistorycenter.org/visit/fort-pitt/\",\n",
        "    \"Meadowcroft Rockshelter\": \"https://www.heinzhistorycenter.org/visit/meadowcroft/\",\n",
        "    \"What's On\": \"https://www.heinzhistorycenter.org/whats-on/\",\n",
        "    \"Event Calendar\": \"https://www.heinzhistorycenter.org/events/\",\n",
        "    \"Research\": \"https://www.heinzhistorycenter.org/research/\",\n",
        "    \"Detre Library & Archives\": \"https://www.heinzhistorycenter.org/research/detre-library-archives/\",\n",
        "    \"Join & Give\": \"https://www.heinzhistorycenter.org/give/\",\n",
        "    \"Learn\": \"https://www.heinzhistorycenter.org/learn/\",\n",
        "    \"About\": \"https://www.heinzhistorycenter.org/about/\"\n",
        "}\n",
        "\n",
        "# Loop through each URL and scrape the content\n",
        "for page_name, page_url in pages.items():\n",
        "    output_filename = f\"{page_name.replace(' ', '_').lower()}.txt\"\n",
        "    scrape_page(page_url, output_filename)\n"
      ]
    },
    {
      "cell_type": "code",
      "source": [
        "import requests\n",
        "from bs4 import BeautifulSoup\n",
        "import csv\n",
        "\n",
        "# Function to scrape and return page content\n",
        "def scrape_page(url):\n",
        "    headers = {\n",
        "        \"User-Agent\": \"Mozilla/5.0 (Windows NT 10.0; Win64; x64) AppleWebKit/537.36 (KHTML, like Gecko) Chrome/58.0.3029.110 Safari/537.3\"\n",
        "    }\n",
        "    response = requests.get(url, headers=headers)\n",
        "    if response.status_code == 200:\n",
        "        soup = BeautifulSoup(response.text, 'html.parser')\n",
        "        # Extract relevant content, e.g., paragraphs\n",
        "        paragraphs = soup.find_all('p')\n",
        "        content = \"\\n\".join([p.get_text(strip=True) for p in paragraphs])\n",
        "        return content\n",
        "    else:\n",
        "        print(f\"Failed to retrieve {url}. Status code: {response.status_code}\")\n",
        "        return None\n",
        "\n",
        "# List of pages to scrape\n",
        "pages = {\n",
        "    \"Visit\": \"https://www.heinzhistorycenter.org/visit/\",\n",
        "    \"Heinz History Center\": \"https://www.heinzhistorycenter.org/visit/heinz-history-center/\",\n",
        "    \"Western PA Sports Museum\": \"https://www.heinzhistorycenter.org/visit/sports-museum/\",\n",
        "    \"Fort Pitt Museum\": \"https://www.heinzhistorycenter.org/visit/fort-pitt/\",\n",
        "    \"Meadowcroft Rockshelter\": \"https://www.heinzhistorycenter.org/visit/meadowcroft/\",\n",
        "    \"What's On\": \"https://www.heinzhistorycenter.org/whats-on/\",\n",
        "    \"Event Calendar\": \"https://www.heinzhistorycenter.org/events/\",\n",
        "    \"Research\": \"https://www.heinzhistorycenter.org/research/\",\n",
        "    \"Detre Library & Archives\": \"https://www.heinzhistorycenter.org/research/detre-library-archives/\",\n",
        "    \"Join & Give\": \"https://www.heinzhistorycenter.org/give/\",\n",
        "    \"Learn\": \"https://www.heinzhistorycenter.org/learn/\",\n",
        "    \"About\": \"https://www.heinzhistorycenter.org/about/\"\n",
        "}\n",
        "\n",
        "# Scrape and save content to CSV\n",
        "output_file = 'Heinz History Center data.csv'\n",
        "with open(output_file, mode='w', newline='', encoding='utf-8') as file:\n",
        "    writer = csv.writer(file)\n",
        "    writer.writerow([\"Page Name\", \"URL\", \"Scraped Content\"])\n",
        "\n",
        "    for page_name, page_url in pages.items():\n",
        "        content = scrape_page(page_url)\n",
        "        if content:\n",
        "            writer.writerow([page_name, page_url, content])\n",
        "\n",
        "output_file\n"
      ],
      "metadata": {
        "id": "8WYDuixYLVwu",
        "colab": {
          "base_uri": "https://localhost:8080/",
          "height": 35
        },
        "outputId": "f4ff5066-480c-455f-bec5-b140a3afdaf5"
      },
      "execution_count": 2,
      "outputs": [
        {
          "output_type": "execute_result",
          "data": {
            "text/plain": [
              "'Heinz History Center data.csv'"
            ],
            "application/vnd.google.colaboratory.intrinsic+json": {
              "type": "string"
            }
          },
          "metadata": {},
          "execution_count": 2
        }
      ]
    },
    {
      "cell_type": "code",
      "source": [],
      "metadata": {
        "id": "cg_P0Ik2L_nf"
      },
      "execution_count": null,
      "outputs": []
    }
  ]
}