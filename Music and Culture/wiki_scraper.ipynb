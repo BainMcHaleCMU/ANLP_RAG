{
  "nbformat": 4,
  "nbformat_minor": 0,
  "metadata": {
    "colab": {
      "provenance": []
    },
    "kernelspec": {
      "name": "python3",
      "display_name": "Python 3"
    },
    "language_info": {
      "name": "python"
    }
  },
  "cells": [
    {
      "cell_type": "code",
      "execution_count": 3,
      "metadata": {
        "colab": {
          "base_uri": "https://localhost:8080/",
          "height": 35
        },
        "id": "Bn6_Brr3UK9z",
        "outputId": "2338b169-06d9-4cf8-ec62-649ae77f9894"
      },
      "outputs": [
        {
          "output_type": "execute_result",
          "data": {
            "text/plain": [
              "'wikidata.csv'"
            ],
            "application/vnd.google.colaboratory.intrinsic+json": {
              "type": "string"
            }
          },
          "metadata": {},
          "execution_count": 3
        }
      ],
      "source": [
        "import requests\n",
        "from bs4 import BeautifulSoup\n",
        "import csv\n",
        "\n",
        "# Function to scrape and return page content\n",
        "def scrape_page(url):\n",
        "    headers = {\n",
        "        \"User-Agent\": \"Mozilla/5.0 (Windows NT 10.0; Win64; x64) AppleWebKit/537.36 (KHTML, like Gecko) Chrome/58.0.3029.110 Safari/537.3\"\n",
        "    }\n",
        "    response = requests.get(url, headers=headers)\n",
        "    if response.status_code == 200:\n",
        "        soup = BeautifulSoup(response.text, 'html.parser')\n",
        "        # Extract relevant content, e.g., paragraphs\n",
        "        paragraphs = soup.find_all('p')\n",
        "        content = \"\\n\".join([p.get_text(strip=True) for p in paragraphs])\n",
        "        return content\n",
        "    else:\n",
        "        print(f\"Failed to retrieve {url}. Status code: {response.status_code}\")\n",
        "        return None\n",
        "\n",
        "# List of pages to scrape\n",
        "pages = {\n",
        "    \"Pittsburgh Symphony\": \"https://en.wikipedia.org/wiki/Pittsburgh_Symphony_Orchestra\",\n",
        "    \"Pittsburgh Opera\": \"https://en.wikipedia.org/wiki/Pittsburgh_Opera\",\n",
        "    \"Pittsburgh Cultural Trust\": \"https://en.wikipedia.org/wiki/Pittsburgh_Cultural_Trust\",\n",
        "    \"Carnegie Museums\": \"https://en.wikipedia.org/wiki/Carnegie_Museums_of_Pittsburgh\",\n",
        "    \"Heinz History Center\": \"https://en.wikipedia.org/wiki/Heinz_History_Center\",\n",
        "    \"The Frick Pittsburgh\": \"https://en.wikipedia.org/wiki/Frick_Art_%26_Historical_Center\",\n",
        "    \"List of Museums in Pittsburgh\": \"https://en.wikipedia.org/wiki/List_of_museums_in_Pittsburgh\",\n",
        "    \"Picklesburgh\": \"https://en.wikipedia.org/wiki/Picklesburgh\"\n",
        "}\n",
        "\n",
        "# Scrape and save content to CSV\n",
        "output_file = 'wikidata.csv'\n",
        "with open(output_file, mode='w', newline='', encoding='utf-8') as file:\n",
        "    writer = csv.writer(file)\n",
        "    writer.writerow([\"Page Name\", \"URL\", \"Scraped Content\"])\n",
        "\n",
        "    for page_name, page_url in pages.items():\n",
        "        content = scrape_page(page_url)\n",
        "        if content:\n",
        "            writer.writerow([page_name, page_url, content])\n",
        "\n",
        "output_file\n"
      ]
    },
    {
      "cell_type": "code",
      "source": [],
      "metadata": {
        "id": "RGgKtSkIURV0"
      },
      "execution_count": null,
      "outputs": []
    }
  ]
}