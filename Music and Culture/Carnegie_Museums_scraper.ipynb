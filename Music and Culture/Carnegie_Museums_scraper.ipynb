{
  "nbformat": 4,
  "nbformat_minor": 0,
  "metadata": {
    "colab": {
      "provenance": []
    },
    "kernelspec": {
      "name": "python3",
      "display_name": "Python 3"
    },
    "language_info": {
      "name": "python"
    }
  },
  "cells": [
    {
      "cell_type": "code",
      "execution_count": null,
      "metadata": {
        "colab": {
          "base_uri": "https://localhost:8080/"
        },
        "id": "JNQotdtMJjD8",
        "outputId": "5da38993-35a0-4704-e99d-3ec8fab3e39d"
      },
      "outputs": [
        {
          "output_type": "stream",
          "name": "stdout",
          "text": [
            "Data saved to things_to_do.txt\n",
            "Data saved to shop_our_stores.txt\n",
            "Data saved to view_our_exhibitions.txt\n",
            "Data saved to explore_our_collections.txt\n",
            "Data saved to learn_with_us.txt\n",
            "Data saved to calendar.txt\n",
            "Data saved to plan_a_visit.txt\n",
            "Data saved to members.txt\n",
            "Data saved to join_&_support.txt\n",
            "Data saved to great_event_spaces.txt\n",
            "Data saved to carnegie_magazine.txt\n",
            "Data saved to about_us.txt\n"
          ]
        }
      ],
      "source": [
        "import requests\n",
        "from bs4 import BeautifulSoup\n",
        "from urllib.parse import urljoin\n",
        "\n",
        "# Function to scrape a page and save content to a text file\n",
        "def scrape_page(url, output_file):\n",
        "    headers = {\n",
        "        \"User-Agent\": \"Mozilla/5.0 (Windows NT 10.0; Win64; x64) AppleWebKit/537.36 (KHTML, like Gecko) Chrome/58.0.3029.110 Safari/537.3\"\n",
        "    }\n",
        "\n",
        "    response = requests.get(url, headers=headers)\n",
        "\n",
        "    if response.status_code == 200:\n",
        "        soup = BeautifulSoup(response.text, 'html.parser')\n",
        "\n",
        "        # Extract relevant page content (depends on the structure of the page)\n",
        "        # Here we extract all paragraphs as a simple example\n",
        "        paragraphs = soup.find_all('p')\n",
        "        content = \"\\n\".join([p.get_text(strip=True) for p in paragraphs])\n",
        "\n",
        "        # Save the content to a text file\n",
        "        with open(output_file, 'w', encoding='utf-8') as file:\n",
        "            file.write(content)\n",
        "        print(f\"Data saved to {output_file}\")\n",
        "    else:\n",
        "        print(f\"Failed to retrieve {url}. Status code: {response.status_code}\")\n",
        "\n",
        "# List of URLs from the Carnegie Museums navigation menu\n",
        "pages = {\n",
        "    \"Things to Do\": \"https://carnegiemuseums.org/things-to-do/\",\n",
        "    \"Shop Our Stores\": \"https://stores.carnegiemuseums.org/\",\n",
        "    \"View Our Exhibitions\": \"https://carnegiemuseums.org/things-to-do/view-our-exhibitions/\",\n",
        "    \"Explore Our Collections\": \"https://carnegiemuseums.org/things-to-do/explore-our-collections/\",\n",
        "    \"Learn With Us\": \"https://carnegiemuseums.org/things-to-do/learn-with-us/\",\n",
        "    \"Calendar\": \"https://carnegiemuseums.org/events/\",\n",
        "    \"Plan a Visit\": \"https://carnegiemuseums.org/plan-a-visit/\",\n",
        "    \"Members\": \"https://carnegiemuseums.org/join-support/membership/\",\n",
        "    \"Join & Support\": \"https://carnegiemuseums.org/join-support/\",\n",
        "    \"Great Event Spaces\": \"https://carnegiemuseums.org/great-event-spaces/\",\n",
        "    \"Carnegie Magazine\": \"https://carnegiemuseums.org/carnegie-magazine/\",\n",
        "    \"About Us\": \"https://carnegiemuseums.org/about-us/\"\n",
        "}\n",
        "\n",
        "# Loop through each URL and scrape the content\n",
        "for page_name, page_url in pages.items():\n",
        "    output_filename = f\"{page_name.replace(' ', '_').lower()}.txt\"\n",
        "    scrape_page(page_url, output_filename)\n"
      ]
    },
    {
      "cell_type": "code",
      "source": [
        "import requests\n",
        "from bs4 import BeautifulSoup\n",
        "import csv\n",
        "\n",
        "# Function to scrape and return page content\n",
        "def scrape_page(url):\n",
        "    headers = {\n",
        "        \"User-Agent\": \"Mozilla/5.0 (Windows NT 10.0; Win64; x64) AppleWebKit/537.36 (KHTML, like Gecko) Chrome/58.0.3029.110 Safari/537.3\"\n",
        "    }\n",
        "    response = requests.get(url, headers=headers)\n",
        "    if response.status_code == 200:\n",
        "        soup = BeautifulSoup(response.text, 'html.parser')\n",
        "        # Extract relevant content, e.g., paragraphs\n",
        "        paragraphs = soup.find_all('p')\n",
        "        content = \"\\n\".join([p.get_text(strip=True) for p in paragraphs])\n",
        "        return content\n",
        "    else:\n",
        "        print(f\"Failed to retrieve {url}. Status code: {response.status_code}\")\n",
        "        return None\n",
        "\n",
        "# List of pages to scrape\n",
        "pages = {\n",
        "    \"Things to Do\": \"https://carnegiemuseums.org/things-to-do/\",\n",
        "    \"Shop Our Stores\": \"https://stores.carnegiemuseums.org/\",\n",
        "    \"View Our Exhibitions\": \"https://carnegiemuseums.org/things-to-do/view-our-exhibitions/\",\n",
        "    \"Explore Our Collections\": \"https://carnegiemuseums.org/things-to-do/explore-our-collections/\",\n",
        "    \"Learn With Us\": \"https://carnegiemuseums.org/things-to-do/learn-with-us/\",\n",
        "    \"Calendar\": \"https://carnegiemuseums.org/events/\",\n",
        "    \"Plan a Visit\": \"https://carnegiemuseums.org/plan-a-visit/\",\n",
        "    \"Members\": \"https://carnegiemuseums.org/join-support/membership/\",\n",
        "    \"Join & Support\": \"https://carnegiemuseums.org/join-support/\",\n",
        "    \"Great Event Spaces\": \"https://carnegiemuseums.org/great-event-spaces/\",\n",
        "    \"Carnegie Magazine\": \"https://carnegiemuseums.org/carnegie-magazine/\",\n",
        "    \"About Us\": \"https://carnegiemuseums.org/about-us/\"\n",
        "}\n",
        "\n",
        "# Scrape and save content to CSV\n",
        "output_file = 'Carnegie museum data.csv'\n",
        "with open(output_file, mode='w', newline='', encoding='utf-8') as file:\n",
        "    writer = csv.writer(file)\n",
        "    writer.writerow([\"Page Name\", \"URL\", \"Scraped Content\"])\n",
        "\n",
        "    for page_name, page_url in pages.items():\n",
        "        content = scrape_page(page_url)\n",
        "        if content:\n",
        "            writer.writerow([page_name, page_url, content])\n",
        "\n",
        "output_file\n"
      ],
      "metadata": {
        "id": "TNKxOJZRJ81d",
        "colab": {
          "base_uri": "https://localhost:8080/",
          "height": 35
        },
        "outputId": "94351877-45ff-44f4-ab3b-bb11f38b87d5"
      },
      "execution_count": 2,
      "outputs": [
        {
          "output_type": "execute_result",
          "data": {
            "text/plain": [
              "'Carnegie museum data.csv'"
            ],
            "application/vnd.google.colaboratory.intrinsic+json": {
              "type": "string"
            }
          },
          "metadata": {},
          "execution_count": 2
        }
      ]
    },
    {
      "cell_type": "code",
      "source": [],
      "metadata": {
        "id": "Iq3NhOA8LSse"
      },
      "execution_count": null,
      "outputs": []
    }
  ]
}