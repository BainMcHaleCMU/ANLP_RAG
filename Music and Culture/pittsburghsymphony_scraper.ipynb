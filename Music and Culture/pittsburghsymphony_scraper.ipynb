{
  "nbformat": 4,
  "nbformat_minor": 0,
  "metadata": {
    "colab": {
      "provenance": []
    },
    "kernelspec": {
      "name": "python3",
      "display_name": "Python 3"
    },
    "language_info": {
      "name": "python"
    }
  },
  "cells": [
    {
      "cell_type": "code",
      "source": [
        "import requests\n",
        "from bs4 import BeautifulSoup\n",
        "import csv\n",
        "\n",
        "# Function to scrape and return page content\n",
        "def scrape_page(url):\n",
        "    headers = {\n",
        "        \"User-Agent\": \"Mozilla/5.0 (Windows NT 10.0; Win64; x64) AppleWebKit/537.36 (KHTML, like Gecko) Chrome/58.0.3029.110 Safari/537.3\"\n",
        "    }\n",
        "    response = requests.get(url, headers=headers)\n",
        "    if response.status_code == 200:\n",
        "        soup = BeautifulSoup(response.text, 'html.parser')\n",
        "        # Extract relevant content, e.g., paragraphs\n",
        "        paragraphs = soup.find_all('p')\n",
        "        content = \"\\n\".join([p.get_text(strip=True) for p in paragraphs])\n",
        "        return content\n",
        "    else:\n",
        "        print(f\"Failed to retrieve {url}. Status code: {response.status_code}\")\n",
        "        return None\n",
        "\n",
        "# List of pages to scrape\n",
        "pages = {\n",
        "    \"Calendar\": \"https://www.pittsburghsymphony.org/calendar\",\n",
        "    \"About\": \"https://www.pittsburghsymphony.org/pso_home/web/about-landing\",\n",
        "    \"Musicians\": \"https://www.pittsburghsymphony.org/pso_home/web/musicians\",\n",
        "    \"Music Director\": \"https://www.pittsburghsymphony.org/pso_home/biographies/pso-conductors/honeck-manfred\",\n",
        "    \"Careers\": \"https://www.pittsburghsymphony.org/pso_home/web/about-landing/career-opportunities\",\n",
        "    \"President & CEO\": \"https://www.pittsburghsymphony.org/pso_home/web/about-landing/melia-p-tourangeau-president\",\n",
        "    \"Tickets\": \"https://www.pittsburghsymphony.org/pso_home/web/tickets-landing\",\n",
        "    \"Subscriptions\": \"https://www.pittsburghsymphony.org/pso_home/web/subscriptions/why-subscribe-24-25\",\n",
        "    \"Learning Programs\": \"https://www.pittsburghsymphony.org/pso_home/web/community-landing/learning-programs\",\n",
        "    \"Seating Charts\": \"https://www.pittsburghsymphony.org/pso_home/web/tickets-landing/seating-charts\",\n",
        "    \"Donate Now\": \"https://give.pittsburghsymphony.org/donate-now\",\n",
        "    \"Corporate Partnerships\": \"https://www.pittsburghsymphony.org/pso_home/web/give-landing/corporate-partnerships\",\n",
        "    \"Gala\": \"https://one.bidpal.net/psogala2024/welcome\",\n",
        "    \"Shop\": \"http://pittsburghsymphonyorchestra.bigcartel.com/\",\n",
        "}\n",
        "\n",
        "# Scrape and save content to CSV\n",
        "output_file = 'symphony_data.csv'\n",
        "with open(output_file, mode='w', newline='', encoding='utf-8') as file:\n",
        "    writer = csv.writer(file)\n",
        "    writer.writerow([\"Page Name\", \"URL\", \"Scraped Content\"])\n",
        "\n",
        "    for page_name, page_url in pages.items():\n",
        "        content = scrape_page(page_url)\n",
        "        if content:\n",
        "            writer.writerow([page_name, page_url, content])\n",
        "\n",
        "output_file\n"
      ],
      "metadata": {
        "colab": {
          "base_uri": "https://localhost:8080/",
          "height": 35
        },
        "id": "AZjCDh6Y3muJ",
        "outputId": "76e4fd82-a383-4984-db1a-16885f564b6f"
      },
      "execution_count": 9,
      "outputs": [
        {
          "output_type": "execute_result",
          "data": {
            "text/plain": [
              "'symphony_data.csv'"
            ],
            "application/vnd.google.colaboratory.intrinsic+json": {
              "type": "string"
            }
          },
          "metadata": {},
          "execution_count": 9
        }
      ]
    },
    {
      "cell_type": "code",
      "source": [],
      "metadata": {
        "id": "QIUU8djb345_"
      },
      "execution_count": null,
      "outputs": []
    }
  ]
}