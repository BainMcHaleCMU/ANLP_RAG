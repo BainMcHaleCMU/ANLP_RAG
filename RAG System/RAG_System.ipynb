{
  "cells": [
    {
      "cell_type": "markdown",
      "metadata": {
        "id": "zD1yLKdKMeFE"
      },
      "source": [
        "# Retreival System"
      ]
    },
    {
      "cell_type": "markdown",
      "metadata": {
        "id": "GxP8xdhRMeFF"
      },
      "source": [
        "This is based heavily on the tutorial from https://huggingface.co/learn/cookbook/en/advanced_rag as recommended in the course. We should probably credit it."
      ]
    },
    {
      "cell_type": "markdown",
      "metadata": {
        "id": "iJukJBF5MIdZ"
      },
      "source": [
        "Hyperparameters to test:\n",
        "\n",
        "\n",
        "* embedding models\n",
        "* distance strategies for vector store\n",
        "* chunk size\n",
        "* overlap size\n",
        "* k value for top_k\n",
        "* model used for LLM\n",
        "* prompt template (definitely need to move to short answer)\n",
        "* pipeline hyperparams (e.g. temperature)\n",
        "\n"
      ]
    },
    {
      "cell_type": "code",
      "execution_count": 1,
      "metadata": {
        "id": "jmG3wBh7bE98"
      },
      "outputs": [],
      "source": [
        "!pip install -q langchain langchain-community transformers sentence-transformers faiss-gpu bitsandbytes"
      ]
    },
    {
      "cell_type": "code",
      "execution_count": 2,
      "metadata": {
        "id": "aniJEiDdb7ZZ"
      },
      "outputs": [],
      "source": [
        "from langchain.vectorstores import FAISS\n",
        "from langchain.embeddings import HuggingFaceEmbeddings\n",
        "from langchain.text_splitter import RecursiveCharacterTextSplitter\n",
        "import pandas as pd"
      ]
    },
    {
      "cell_type": "code",
      "execution_count": 3,
      "metadata": {
        "colab": {
          "base_uri": "https://localhost:8080/"
        },
        "id": "CBsNAPtKiiZM",
        "outputId": "b749a855-4080-46f0-f7d7-e3e26f83bb5a"
      },
      "outputs": [
        {
          "name": "stderr",
          "output_type": "stream",
          "text": [
            "/usr/local/lib/python3.10/dist-packages/sentence_transformers/cross_encoder/CrossEncoder.py:13: TqdmExperimentalWarning: Using `tqdm.autonotebook.tqdm` in notebook mode. Use `tqdm.tqdm` instead to force console mode (e.g. in jupyter console)\n",
            "  from tqdm.autonotebook import tqdm, trange\n",
            "/usr/local/lib/python3.10/dist-packages/huggingface_hub/utils/_token.py:89: UserWarning: \n",
            "The secret `HF_TOKEN` does not exist in your Colab secrets.\n",
            "To authenticate with the Hugging Face Hub, create a token in your settings tab (https://huggingface.co/settings/tokens), set it as secret in your Google Colab and restart your session.\n",
            "You will be able to reuse this secret in all of your notebooks.\n",
            "Please note that authentication is recommended but still optional to access public models or datasets.\n",
            "  warnings.warn(\n"
          ]
        },
        {
          "name": "stdout",
          "output_type": "stream",
          "text": [
            "Model's maximum sequence length: 384\n"
          ]
        }
      ],
      "source": [
        "# To get the value of the max sequence_length, we will query the underlying `SentenceTransformer` object used for embeddings\n",
        "from sentence_transformers import SentenceTransformer\n",
        "print(f\"Model's maximum sequence length: {SentenceTransformer('all-mpnet-base-v2').max_seq_length}\")"
      ]
    },
    {
      "cell_type": "code",
      "execution_count": 4,
      "metadata": {
        "colab": {
          "base_uri": "https://localhost:8080/"
        },
        "id": "oZlCrH_Sb8mF",
        "outputId": "7b33bc0d-9fc6-4d1d-846a-e3130bf634a9"
      },
      "outputs": [
        {
          "name": "stderr",
          "output_type": "stream",
          "text": [
            "<ipython-input-4-6601b5eee2fc>:6: LangChainDeprecationWarning: The class `HuggingFaceEmbeddings` was deprecated in LangChain 0.2.2 and will be removed in 1.0. An updated version of the class exists in the :class:`~langchain-huggingface package and should be used instead. To use it run `pip install -U :class:`~langchain-huggingface` and import as `from :class:`~langchain_huggingface import HuggingFaceEmbeddings``.\n",
            "  embeddings = HuggingFaceEmbeddings(\n"
          ]
        },
        {
          "name": "stdout",
          "output_type": "stream",
          "text": [
            "source https://onestoppgh.pittsburghpa.gov/pghprod/pub/lms/Login.aspx corrupted\n",
            "source https://www.cmu.edu/dietrich/rss-feeds/news-rss.rss corrupted\n"
          ]
        }
      ],
      "source": [
        "# Load data\n",
        "df = pd.read_csv('data.csv')\n",
        "\n",
        "# Initialize embeddings\n",
        "# embeddings = HuggingFaceEmbeddings(model_name='sentence-transformers/all-mpnet-base-v2')\n",
        "embeddings = HuggingFaceEmbeddings(\n",
        "    model_name=\"sentence-transformers/all-mpnet-base-v2\",\n",
        "    multi_process=True,\n",
        "    model_kwargs={\"device\": \"cuda\"},\n",
        "    encode_kwargs={\"normalize_embeddings\": True},  # Set `True` for cosine similarity\n",
        ")\n",
        "\n",
        "# Split text into chunks\n",
        "TEXT_SEPARATORS = [\n",
        "    \"\\n\\n\",\n",
        "    \"\\n\",\n",
        "    \".\"\n",
        "    \" \",\n",
        "    \"\",\n",
        "]\n",
        "\n",
        "text_splitter = RecursiveCharacterTextSplitter(\n",
        "    chunk_size=384-64, # selected to stay under 384 max size for all-mpnet-base-v2\n",
        "    chunk_overlap=50, # arbitrarily pick how much across chunks\n",
        "    add_start_index=True,  # If `True`, includes chunk's start index in metadata\n",
        "    strip_whitespace=True,  # If `True`, strips whitespace from the start and end of every document\n",
        "    separators=TEXT_SEPARATORS,\n",
        ")\n",
        "texts = []\n",
        "metadatas = []\n",
        "\n",
        "for _, row in df.iterrows():\n",
        "    try:\n",
        "      chunks = text_splitter.split_text(row['text'])\n",
        "      texts.extend(chunks)\n",
        "      metadatas.extend([{'source': row['source']}] * len(chunks))\n",
        "    except:\n",
        "      print(f\"source {row['source']} corrupted\")"
      ]
    },
    {
      "cell_type": "code",
      "execution_count": 5,
      "metadata": {
        "colab": {
          "base_uri": "https://localhost:8080/",
          "height": 452
        },
        "id": "lLYIznRkeDQ4",
        "outputId": "0b460f50-ea31-45aa-b741-cf27b296bcff"
      },
      "outputs": [
        {
          "data": {
            "image/png": "[encoded data removed]",
            "text/plain": [
              "<Figure size 640x480 with 1 Axes>"
            ]
          },
          "metadata": {},
          "output_type": "display_data"
        }
      ],
      "source": [
        "lengths = [len(text) for text in texts]\n",
        "\n",
        "# Plot the distribution of text lengths, counted as the number of tokens\n",
        "import matplotlib.pyplot as plt\n",
        "fig = pd.Series(lengths).hist()\n",
        "plt.title(\"Distribution of document lengths in the knowledge base (in count of tokens)\")\n",
        "plt.show()"
      ]
    },
    {
      "cell_type": "code",
      "execution_count": 6,
      "metadata": {
        "id": "rAD62n3cb-6y"
      },
      "outputs": [],
      "source": [
        "# Create FAISS index\n",
        "from langchain_community.vectorstores.utils import DistanceStrategy\n",
        "\n",
        "vectorstore = FAISS.from_texts(texts, embeddings, metadatas=metadatas, distance_strategy=DistanceStrategy.COSINE)"
      ]
    },
    {
      "cell_type": "code",
      "execution_count": 7,
      "metadata": {
        "id": "Ny1a2lZJcDIC"
      },
      "outputs": [],
      "source": [
        "# Define retrieval function\n",
        "def retrieve_top_k(query, k=5):\n",
        "    results = vectorstore.similarity_search(query, k=k)\n",
        "    return [(res.page_content, res.metadata['source']) for res in results]"
      ]
    },
    {
      "cell_type": "code",
      "execution_count": 9,
      "metadata": {
        "colab": {
          "base_uri": "https://localhost:8080/"
        },
        "id": "lIjYNyOCa_g9",
        "outputId": "0e6d94e9-5168-4946-aa73-5451e644acce"
      },
      "outputs": [
        {
          "name": "stdout",
          "output_type": "stream",
          "text": [
            "\n",
            "Result 1:\n",
            "Source: Carnagie Mellon University Alumni\n",
            "Text: e with CMU Engage with CMU \\u203a Alumni \\u203a Attend an Event \\u203a Campus Events \\u203a Spring Carnival \\u203a\\u00a0             Spring Carnival Featured Highlights Spring Carnival 2024 April 11-14 Booth | Buggy | MOBOT | Tartans on the Rise For more than 100 years, Carnival has been one the most anticipated weeken\n",
            "\n",
            "\n",
            "Result 2:\n",
            "Source: Carnagie Mellon University Alumni\n",
            "Text: \\u203a Attend an Event \\u203a Campus Events \\u203a\\u00a0             Spring Carnival Spring Carnival Weekend April 3-5, 2025 For more than 100 years, Carnival has been one the most anticipated weekends of the year with Tartans around the world coming together to celebrate this oh-so-CMU tradition\n",
            "\n",
            "\n",
            "Result 3:\n",
            "Source: Carnagie Mellon University Alumni\n",
            "Text: n Event \\u203a Campus Events \\u203a\\u00a0             Reunion Reunion Weekend at Spring Carnival April 3-5, 2025 Save the date for CMU's most-anticipated weekend, which offers an array of special experiences for Tartans celebrating a reunion year\n",
            "\n",
            "\n",
            "Result 4:\n",
            "Source: Carnagie Mellon University Alumni\n",
            "Text: . SAE | 2:56.08 View all results Reunion Highlights During Reunion Weekend at Spring Carnival 2024, undergraduate classes ending in 4 and 9 as well as the Class of 2023 gathered together for an unforgettable weekend of memories, old and new! The rainy start to the weekend could not dampen the spirits of generations of\n",
            "\n",
            "\n",
            "Result 5:\n",
            "Source: Carnegie Mellon University Alumni Events\n",
            "Text: me\": \"November 6, 2024, 6:30pm - 8:30pm EST\", \"location\": \"Mellow Mushroom - Brookhaven, 4058 Peachtree Rd NE, Atlanta, Georgia 30319\", \"description\": \"Join us in planning the first few months of 2025 to help Alumni have fun and build our network\n",
            "\n"
          ]
        }
      ],
      "source": [
        "# # Example usage of retrieval only\n",
        "# query = \"When is CMU's Spring Carnival Weekend 2025?\"\n",
        "# top_chunks = retrieve_top_k(query, k=5)\n",
        "# for i, (text, source) in enumerate(top_chunks, 1):\n",
        "#     print(f\"\\nResult {i}:\")\n",
        "#     print(f\"Source: {source}\")\n",
        "#     print(f\"Text: {text}\\n\")"
      ]
    },
    {
      "cell_type": "markdown",
      "metadata": {
        "id": "A4de5-jvO0dO"
      },
      "source": [
        "# Reader"
      ]
    },
    {
      "cell_type": "code",
      "execution_count": 10,
      "metadata": {
        "id": "lygyo49_O1Nf"
      },
      "outputs": [],
      "source": [
        "def create_template():\n",
        "  prompt_in_chat_format = [\n",
        "    {\n",
        "      \"role\": \"system\",\n",
        "      \"content\": \"\"\"Using the information contained in the context,\n",
        "        give a comprehensive answer to the question.\n",
        "        Respond only to the question asked, response should be concise and relevant to the question.\n",
        "        Provide the number of the source document when relevant.\n",
        "        If the answer cannot be deduced from the context, answer '???'.\"\"\",\n",
        "      },\n",
        "      {\n",
        "          \"role\": \"user\",\n",
        "          \"content\": \"\"\"Context:\n",
        "          {context}\n",
        "          ---\n",
        "          Now here is the question you need to answer.\n",
        "\n",
        "          Question: {question}\"\"\",\n",
        "      },\n",
        "  ]\n",
        "  RAG_PROMPT_TEMPLATE = tokenizer.apply_chat_template(\n",
        "      prompt_in_chat_format, tokenize=False, add_generation_prompt=True\n",
        "  )\n",
        "  return RAG_PROMPT_TEMPLATE\n",
        "\n",
        "def create_prompt(template, query, top_chunks):\n",
        "  context = \"\\n\\n\".join([chunk[0] for chunk in top_chunks])\n",
        "  return template.format(question=query, context=context)"
      ]
    },
    {
      "cell_type": "code",
      "execution_count": 11,
      "metadata": {
        "id": "pTZ9J3K8aNxQ"
      },
      "outputs": [],
      "source": [
        "from transformers import pipeline\n",
        "import torch\n",
        "from transformers import AutoTokenizer, AutoModelForCausalLM, BitsAndBytesConfig"
      ]
    },
    {
      "cell_type": "code",
      "execution_count": 12,
      "metadata": {
        "colab": {
          "base_uri": "https://localhost:8080/",
          "height": 531,
          "referenced_widgets": [
            "ac63f374a6ca4f908aab00c3bf212321",
            "6c9e658d97b343689ba623d0db482e4f",
            "49d88271a5c54d79bf1397ec58fad0f7",
            "03a6ae903f904056a4f3b1bf2bc84ad4",
            "6f2c392c0c06429c81257c7983ecdfc9",
            "d97f124876fa416e8d8b2fe6dce3fb39",
            "362f18c84d8a4b46870b90b95fca7c52",
            "7481e5e86c2a471aab253c7f7e5e7580",
            "7f0723a0a55141b598513ea99a4b0306",
            "464c2046baa94ecf87d6a0eb095e1124",
            "0d22cac1e4fc4bf38956017f4c1567cb"
          ]
        },
        "id": "bfpSbBDQQ46S",
        "outputId": "a177d6d6-52d5-43a8-e7e7-581f5b7773da"
      },
      "outputs": [
        {
          "name": "stderr",
          "output_type": "stream",
          "text": [
            "`low_cpu_mem_usage` was None, now set to True since model is quantized.\n"
          ]
        },
        {
          "data": {
            "application/vnd.jupyter.widget-view+json": {
              "model_id": "ac63f374a6ca4f908aab00c3bf212321",
              "version_major": 2,
              "version_minor": 0
            },
            "text/plain": [
              "Loading checkpoint shards:   0%|          | 0/8 [00:00<?, ?it/s]"
            ]
          },
          "metadata": {},
          "output_type": "display_data"
        },
        {
          "data": {
            "text/plain": [
              "MistralForCausalLM(\n",
              "  (model): MistralModel(\n",
              "    (embed_tokens): Embedding(32000, 4096, padding_idx=2)\n",
              "    (layers): ModuleList(\n",
              "      (0-31): 32 x MistralDecoderLayer(\n",
              "        (self_attn): MistralSdpaAttention(\n",
              "          (q_proj): Linear4bit(in_features=4096, out_features=4096, bias=False)\n",
              "          (k_proj): Linear4bit(in_features=4096, out_features=1024, bias=False)\n",
              "          (v_proj): Linear4bit(in_features=4096, out_features=1024, bias=False)\n",
              "          (o_proj): Linear4bit(in_features=4096, out_features=4096, bias=False)\n",
              "          (rotary_emb): MistralRotaryEmbedding()\n",
              "        )\n",
              "        (mlp): MistralMLP(\n",
              "          (gate_proj): Linear4bit(in_features=4096, out_features=14336, bias=False)\n",
              "          (up_proj): Linear4bit(in_features=4096, out_features=14336, bias=False)\n",
              "          (down_proj): Linear4bit(in_features=14336, out_features=4096, bias=False)\n",
              "          (act_fn): SiLU()\n",
              "        )\n",
              "        (input_layernorm): MistralRMSNorm((4096,), eps=1e-05)\n",
              "        (post_attention_layernorm): MistralRMSNorm((4096,), eps=1e-05)\n",
              "      )\n",
              "    )\n",
              "    (norm): MistralRMSNorm((4096,), eps=1e-05)\n",
              "  )\n",
              "  (lm_head): Linear(in_features=4096, out_features=32000, bias=False)\n",
              ")"
            ]
          },
          "execution_count": 12,
          "metadata": {},
          "output_type": "execute_result"
        }
      ],
      "source": [
        "READER_MODEL_NAME = \"HuggingFaceH4/zephyr-7b-beta\"\n",
        "\n",
        "bnb_config = BitsAndBytesConfig(\n",
        "    load_in_4bit=True,\n",
        "    bnb_4bit_use_double_quant=True,\n",
        "    bnb_4bit_quant_type=\"nf4\",\n",
        "    bnb_4bit_compute_dtype=torch.bfloat16,\n",
        ")\n",
        "\n",
        "tokenizer = AutoTokenizer.from_pretrained(READER_MODEL_NAME)\n",
        "model = AutoModelForCausalLM.from_pretrained(READER_MODEL_NAME, quantization_config=bnb_config)\n",
        "model.eval()"
      ]
    },
    {
      "cell_type": "code",
      "execution_count": 13,
      "metadata": {
        "id": "rlVNWiLSWJR4"
      },
      "outputs": [],
      "source": [
        "# Create the prompt template\n",
        "template = create_template()\n",
        "\n",
        "# Initialize LLM Pipeline\n",
        "READER_LLM = pipeline(\n",
        "    model=model,\n",
        "    tokenizer=tokenizer,\n",
        "    task=\"text-generation\",\n",
        "    do_sample=True,\n",
        "    temperature=0.2,\n",
        "    repetition_penalty=1.1,\n",
        "    return_full_text=False,\n",
        "    max_new_tokens=25,\n",
        ")"
      ]
    },
    {
      "cell_type": "code",
      "execution_count": 18,
      "metadata": {
        "colab": {
          "base_uri": "https://localhost:8080/"
        },
        "id": "KFcCtWWWWqK3",
        "outputId": "bdcdb4f8-ef04-4ce5-e18f-b389c0c44699"
      },
      "outputs": [
        {
          "data": {
            "text/plain": [
              "[{'generated_text': \"Carnegie Mellon University (CMU) was founded in 1967 through the merger of Carnegie Tech and the Mellon Institute, both of which had a long history of support from the Mellon family of Pittsburgh. Andrew Carnegie and Andrew Mellon were also instrumental in founding other institutions in Pittsburgh, including Carnegie Mellon University's predecessor, Carnegie Tech, and the Carnegie Museums of Pittsburgh.\"}]"
            ]
          },
          "execution_count": 18,
          "metadata": {},
          "output_type": "execute_result"
        }
      ],
      "source": [
        "query = \"When was Carnegie Mellon University founded?\"\n",
        "top_chunks = retrieve_top_k(query, k=3)\n",
        "prompt = create_prompt(template, query, top_chunks)\n",
        "READER_LLM(prompt)"
      ]
    }
  ],
  "metadata": {
    "accelerator": "GPU",
    "colab": {
      "gpuType": "T4",
      "provenance": []
    },
    "kernelspec": {
      "display_name": "Python 3",
      "name": "python3"
    },
    "language_info": {
      "codemirror_mode": {
        "name": "ipython",
        "version": 3
      },
      "file_extension": ".py",
      "mimetype": "text/x-python",
      "name": "python",
      "nbconvert_exporter": "python",
      "pygments_lexer": "ipython3",
      "version": "3.9.13"
    },
    "widgets": {
      "application/vnd.jupyter.widget-state+json": {
        "03a6ae903f904056a4f3b1bf2bc84ad4": {
          "model_module": "@jupyter-widgets/controls",
          "model_module_version": "1.5.0",
          "model_name": "HTMLModel",
          "state": {
            "_dom_classes": [],
            "_model_module": "@jupyter-widgets/controls",
            "_model_module_version": "1.5.0",
            "_model_name": "HTMLModel",
            "_view_count": null,
            "_view_module": "@jupyter-widgets/controls",
            "_view_module_version": "1.5.0",
            "_view_name": "HTMLView",
            "description": "",
            "description_tooltip": null,
            "layout": "IPY_MODEL_464c2046baa94ecf87d6a0eb095e1124",
            "placeholder": "​",
            "style": "IPY_MODEL_0d22cac1e4fc4bf38956017f4c1567cb",
            "value": " 8/8 [01:13&lt;00:00,  8.14s/it]"
          }
        },
        "0d22cac1e4fc4bf38956017f4c1567cb": {
          "model_module": "@jupyter-widgets/controls",
          "model_module_version": "1.5.0",
          "model_name": "DescriptionStyleModel",
          "state": {
            "_model_module": "@jupyter-widgets/controls",
            "_model_module_version": "1.5.0",
            "_model_name": "DescriptionStyleModel",
            "_view_count": null,
            "_view_module": "@jupyter-widgets/base",
            "_view_module_version": "1.2.0",
            "_view_name": "StyleView",
            "description_width": ""
          }
        },
        "362f18c84d8a4b46870b90b95fca7c52": {
          "model_module": "@jupyter-widgets/controls",
          "model_module_version": "1.5.0",
          "model_name": "DescriptionStyleModel",
          "state": {
            "_model_module": "@jupyter-widgets/controls",
            "_model_module_version": "1.5.0",
            "_model_name": "DescriptionStyleModel",
            "_view_count": null,
            "_view_module": "@jupyter-widgets/base",
            "_view_module_version": "1.2.0",
            "_view_name": "StyleView",
            "description_width": ""
          }
        },
        "464c2046baa94ecf87d6a0eb095e1124": {
          "model_module": "@jupyter-widgets/base",
          "model_module_version": "1.2.0",
          "model_name": "LayoutModel",
          "state": {
            "_model_module": "@jupyter-widgets/base",
            "_model_module_version": "1.2.0",
            "_model_name": "LayoutModel",
            "_view_count": null,
            "_view_module": "@jupyter-widgets/base",
            "_view_module_version": "1.2.0",
            "_view_name": "LayoutView",
            "align_content": null,
            "align_items": null,
            "align_self": null,
            "border": null,
            "bottom": null,
            "display": null,
            "flex": null,
            "flex_flow": null,
            "grid_area": null,
            "grid_auto_columns": null,
            "grid_auto_flow": null,
            "grid_auto_rows": null,
            "grid_column": null,
            "grid_gap": null,
            "grid_row": null,
            "grid_template_areas": null,
            "grid_template_columns": null,
            "grid_template_rows": null,
            "height": null,
            "justify_content": null,
            "justify_items": null,
            "left": null,
            "margin": null,
            "max_height": null,
            "max_width": null,
            "min_height": null,
            "min_width": null,
            "object_fit": null,
            "object_position": null,
            "order": null,
            "overflow": null,
            "overflow_x": null,
            "overflow_y": null,
            "padding": null,
            "right": null,
            "top": null,
            "visibility": null,
            "width": null
          }
        },
        "49d88271a5c54d79bf1397ec58fad0f7": {
          "model_module": "@jupyter-widgets/controls",
          "model_module_version": "1.5.0",
          "model_name": "FloatProgressModel",
          "state": {
            "_dom_classes": [],
            "_model_module": "@jupyter-widgets/controls",
            "_model_module_version": "1.5.0",
            "_model_name": "FloatProgressModel",
            "_view_count": null,
            "_view_module": "@jupyter-widgets/controls",
            "_view_module_version": "1.5.0",
            "_view_name": "ProgressView",
            "bar_style": "success",
            "description": "",
            "description_tooltip": null,
            "layout": "IPY_MODEL_7481e5e86c2a471aab253c7f7e5e7580",
            "max": 8,
            "min": 0,
            "orientation": "horizontal",
            "style": "IPY_MODEL_7f0723a0a55141b598513ea99a4b0306",
            "value": 8
          }
        },
        "6c9e658d97b343689ba623d0db482e4f": {
          "model_module": "@jupyter-widgets/controls",
          "model_module_version": "1.5.0",
          "model_name": "HTMLModel",
          "state": {
            "_dom_classes": [],
            "_model_module": "@jupyter-widgets/controls",
            "_model_module_version": "1.5.0",
            "_model_name": "HTMLModel",
            "_view_count": null,
            "_view_module": "@jupyter-widgets/controls",
            "_view_module_version": "1.5.0",
            "_view_name": "HTMLView",
            "description": "",
            "description_tooltip": null,
            "layout": "IPY_MODEL_d97f124876fa416e8d8b2fe6dce3fb39",
            "placeholder": "​",
            "style": "IPY_MODEL_362f18c84d8a4b46870b90b95fca7c52",
            "value": "Loading checkpoint shards: 100%"
          }
        },
        "6f2c392c0c06429c81257c7983ecdfc9": {
          "model_module": "@jupyter-widgets/base",
          "model_module_version": "1.2.0",
          "model_name": "LayoutModel",
          "state": {
            "_model_module": "@jupyter-widgets/base",
            "_model_module_version": "1.2.0",
            "_model_name": "LayoutModel",
            "_view_count": null,
            "_view_module": "@jupyter-widgets/base",
            "_view_module_version": "1.2.0",
            "_view_name": "LayoutView",
            "align_content": null,
            "align_items": null,
            "align_self": null,
            "border": null,
            "bottom": null,
            "display": null,
            "flex": null,
            "flex_flow": null,
            "grid_area": null,
            "grid_auto_columns": null,
            "grid_auto_flow": null,
            "grid_auto_rows": null,
            "grid_column": null,
            "grid_gap": null,
            "grid_row": null,
            "grid_template_areas": null,
            "grid_template_columns": null,
            "grid_template_rows": null,
            "height": null,
            "justify_content": null,
            "justify_items": null,
            "left": null,
            "margin": null,
            "max_height": null,
            "max_width": null,
            "min_height": null,
            "min_width": null,
            "object_fit": null,
            "object_position": null,
            "order": null,
            "overflow": null,
            "overflow_x": null,
            "overflow_y": null,
            "padding": null,
            "right": null,
            "top": null,
            "visibility": null,
            "width": null
          }
        },
        "7481e5e86c2a471aab253c7f7e5e7580": {
          "model_module": "@jupyter-widgets/base",
          "model_module_version": "1.2.0",
          "model_name": "LayoutModel",
          "state": {
            "_model_module": "@jupyter-widgets/base",
            "_model_module_version": "1.2.0",
            "_model_name": "LayoutModel",
            "_view_count": null,
            "_view_module": "@jupyter-widgets/base",
            "_view_module_version": "1.2.0",
            "_view_name": "LayoutView",
            "align_content": null,
            "align_items": null,
            "align_self": null,
            "border": null,
            "bottom": null,
            "display": null,
            "flex": null,
            "flex_flow": null,
            "grid_area": null,
            "grid_auto_columns": null,
            "grid_auto_flow": null,
            "grid_auto_rows": null,
            "grid_column": null,
            "grid_gap": null,
            "grid_row": null,
            "grid_template_areas": null,
            "grid_template_columns": null,
            "grid_template_rows": null,
            "height": null,
            "justify_content": null,
            "justify_items": null,
            "left": null,
            "margin": null,
            "max_height": null,
            "max_width": null,
            "min_height": null,
            "min_width": null,
            "object_fit": null,
            "object_position": null,
            "order": null,
            "overflow": null,
            "overflow_x": null,
            "overflow_y": null,
            "padding": null,
            "right": null,
            "top": null,
            "visibility": null,
            "width": null
          }
        },
        "7f0723a0a55141b598513ea99a4b0306": {
          "model_module": "@jupyter-widgets/controls",
          "model_module_version": "1.5.0",
          "model_name": "ProgressStyleModel",
          "state": {
            "_model_module": "@jupyter-widgets/controls",
            "_model_module_version": "1.5.0",
            "_model_name": "ProgressStyleModel",
            "_view_count": null,
            "_view_module": "@jupyter-widgets/base",
            "_view_module_version": "1.2.0",
            "_view_name": "StyleView",
            "bar_color": null,
            "description_width": ""
          }
        },
        "ac63f374a6ca4f908aab00c3bf212321": {
          "model_module": "@jupyter-widgets/controls",
          "model_module_version": "1.5.0",
          "model_name": "HBoxModel",
          "state": {
            "_dom_classes": [],
            "_model_module": "@jupyter-widgets/controls",
            "_model_module_version": "1.5.0",
            "_model_name": "HBoxModel",
            "_view_count": null,
            "_view_module": "@jupyter-widgets/controls",
            "_view_module_version": "1.5.0",
            "_view_name": "HBoxView",
            "box_style": "",
            "children": [
              "IPY_MODEL_6c9e658d97b343689ba623d0db482e4f",
              "IPY_MODEL_49d88271a5c54d79bf1397ec58fad0f7",
              "IPY_MODEL_03a6ae903f904056a4f3b1bf2bc84ad4"
            ],
            "layout": "IPY_MODEL_6f2c392c0c06429c81257c7983ecdfc9"
          }
        },
        "d97f124876fa416e8d8b2fe6dce3fb39": {
          "model_module": "@jupyter-widgets/base",
          "model_module_version": "1.2.0",
          "model_name": "LayoutModel",
          "state": {
            "_model_module": "@jupyter-widgets/base",
            "_model_module_version": "1.2.0",
            "_model_name": "LayoutModel",
            "_view_count": null,
            "_view_module": "@jupyter-widgets/base",
            "_view_module_version": "1.2.0",
            "_view_name": "LayoutView",
            "align_content": null,
            "align_items": null,
            "align_self": null,
            "border": null,
            "bottom": null,
            "display": null,
            "flex": null,
            "flex_flow": null,
            "grid_area": null,
            "grid_auto_columns": null,
            "grid_auto_flow": null,
            "grid_auto_rows": null,
            "grid_column": null,
            "grid_gap": null,
            "grid_row": null,
            "grid_template_areas": null,
            "grid_template_columns": null,
            "grid_template_rows": null,
            "height": null,
            "justify_content": null,
            "justify_items": null,
            "left": null,
            "margin": null,
            "max_height": null,
            "max_width": null,
            "min_height": null,
            "min_width": null,
            "object_fit": null,
            "object_position": null,
            "order": null,
            "overflow": null,
            "overflow_x": null,
            "overflow_y": null,
            "padding": null,
            "right": null,
            "top": null,
            "visibility": null,
            "width": null
          }
        }
      }
    }
  },
  "nbformat": 4,
  "nbformat_minor": 0
}
