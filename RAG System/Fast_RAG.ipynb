{
  "metadata": {
    "kernelspec": {
      "name": "python3",
      "display_name": "Python 3"
    },
    "language_info": {
      "name": "python",
      "version": "3.10.14",
      "mimetype": "text/x-python",
      "codemirror_mode": {
        "name": "ipython",
        "version": 3
      },
      "pygments_lexer": "ipython3",
      "nbconvert_exporter": "python",
      "file_extension": ".py"
    },
    "colab": {
      "provenance": [],
      "gpuType": "T4"
    },
    "kaggle": {
      "accelerator": "nvidiaTeslaT4",
      "dataSources": [
        {
          "sourceId": 9695908,
          "sourceType": "datasetVersion",
          "datasetId": 5928411
        },
        {
          "sourceId": 9695917,
          "sourceType": "datasetVersion",
          "datasetId": 5928418
        }
      ],
      "dockerImageVersionId": 30787,
      "isInternetEnabled": true,
      "language": "python",
      "sourceType": "notebook",
      "isGpuEnabled": true
    },
    "accelerator": "GPU"
  },
  "nbformat_minor": 0,
  "nbformat": 4,
  "cells": [
    {
      "cell_type": "markdown",
      "source": [
        "# Retreival System"
      ],
      "metadata": {
        "id": "zD1yLKdKMeFE"
      }
    },
    {
      "cell_type": "markdown",
      "source": [
        "This is based heavily on the tutorial from https://huggingface.co/learn/cookbook/en/advanced_rag as recommended in the course. We should probably credit it."
      ],
      "metadata": {
        "id": "GxP8xdhRMeFF"
      }
    },
    {
      "cell_type": "markdown",
      "source": [
        "Hyperparameters to test:\n",
        "\n",
        "\n",
        "\n",
        "\n",
        "\n",
        "* embedding models\n",
        "\n",
        "* distance strategies for vector store\n",
        "\n",
        "* chunk size\n",
        "\n",
        "* overlap size\n",
        "\n",
        "* k value for top_k\n",
        "\n",
        "* model used for LLM\n",
        "\n",
        "* alter generated prompt\n",
        "\n",
        "\n"
      ],
      "metadata": {
        "id": "iJukJBF5MIdZ"
      }
    },
    {
      "cell_type": "code",
      "source": [
        "!pip install -q langchain langchain-community transformers sentence-transformers faiss-gpu bitsandbytes"
      ],
      "metadata": {
        "id": "jmG3wBh7bE98",
        "trusted": true,
        "execution": {
          "iopub.status.busy": "2024-10-22T19:21:31.098831Z",
          "iopub.execute_input": "2024-10-22T19:21:31.099552Z",
          "iopub.status.idle": "2024-10-22T19:21:57.732321Z",
          "shell.execute_reply.started": "2024-10-22T19:21:31.099499Z",
          "shell.execute_reply": "2024-10-22T19:21:57.731239Z"
        }
      },
      "outputs": [],
      "execution_count": 1
    },
    {
      "cell_type": "code",
      "source": [
        "from langchain.vectorstores import FAISS\n",
        "\n",
        "from langchain.embeddings import HuggingFaceEmbeddings\n",
        "\n",
        "from langchain.text_splitter import RecursiveCharacterTextSplitter\n",
        "\n",
        "import pandas as pd"
      ],
      "metadata": {
        "id": "aniJEiDdb7ZZ",
        "trusted": true,
        "execution": {
          "iopub.status.busy": "2024-10-22T19:21:57.734413Z",
          "iopub.execute_input": "2024-10-22T19:21:57.734790Z",
          "iopub.status.idle": "2024-10-22T19:21:59.203080Z",
          "shell.execute_reply.started": "2024-10-22T19:21:57.734749Z",
          "shell.execute_reply": "2024-10-22T19:21:59.201731Z"
        }
      },
      "outputs": [],
      "execution_count": 2
    },
    {
      "cell_type": "code",
      "source": [
        "# To get the value of the max sequence_length, we will query the underlying `SentenceTransformer` object used for embeddings\n",
        "\n",
        "from sentence_transformers import SentenceTransformer\n",
        "\n",
        "print(f\"Model's maximum sequence length: {SentenceTransformer('all-mpnet-base-v2').max_seq_length}\")"
      ],
      "metadata": {
        "id": "CBsNAPtKiiZM",
        "trusted": true,
        "execution": {
          "iopub.status.busy": "2024-10-22T19:21:59.204420Z",
          "iopub.execute_input": "2024-10-22T19:21:59.204877Z",
          "iopub.status.idle": "2024-10-22T19:22:23.987799Z",
          "shell.execute_reply.started": "2024-10-22T19:21:59.204841Z",
          "shell.execute_reply": "2024-10-22T19:22:23.986601Z"
        },
        "colab": {
          "base_uri": "https://localhost:8080/"
        },
        "outputId": "cfb693ac-a722-4e2c-cb73-9c4fb57430ce"
      },
      "outputs": [
        {
          "output_type": "stream",
          "name": "stderr",
          "text": [
            "/usr/local/lib/python3.10/dist-packages/sentence_transformers/cross_encoder/CrossEncoder.py:13: TqdmExperimentalWarning: Using `tqdm.autonotebook.tqdm` in notebook mode. Use `tqdm.tqdm` instead to force console mode (e.g. in jupyter console)\n",
            "  from tqdm.autonotebook import tqdm, trange\n",
            "/usr/local/lib/python3.10/dist-packages/huggingface_hub/utils/_token.py:89: UserWarning: \n",
            "The secret `HF_TOKEN` does not exist in your Colab secrets.\n",
            "To authenticate with the Hugging Face Hub, create a token in your settings tab (https://huggingface.co/settings/tokens), set it as secret in your Google Colab and restart your session.\n",
            "You will be able to reuse this secret in all of your notebooks.\n",
            "Please note that authentication is recommended but still optional to access public models or datasets.\n",
            "  warnings.warn(\n",
            "/usr/local/lib/python3.10/dist-packages/transformers/tokenization_utils_base.py:1601: FutureWarning: `clean_up_tokenization_spaces` was not set. It will be set to `True` by default. This behavior will be depracted in transformers v4.45, and will be then set to `False` by default. For more details check this issue: https://github.com/huggingface/transformers/issues/31884\n",
            "  warnings.warn(\n"
          ]
        },
        {
          "output_type": "stream",
          "name": "stdout",
          "text": [
            "Model's maximum sequence length: 384\n"
          ]
        }
      ],
      "execution_count": 3
    },
    {
      "cell_type": "code",
      "source": [
        "# Load data\n",
        "\n",
        "df = pd.read_csv('data.csv')\n",
        "\n",
        "\n",
        "# Split text into chunks\n",
        "\n",
        "TEXT_SEPARATORS = [\n",
        "\n",
        "    \"\\n\\n\",\n",
        "\n",
        "    \"\\n\",\n",
        "\n",
        "    \".\",\n",
        "\n",
        "    \" \",\n",
        "\n",
        "    \"\",\n",
        "\n",
        "]\n",
        "\n",
        "\n",
        "\n",
        "text_splitter = RecursiveCharacterTextSplitter(\n",
        "\n",
        "    chunk_size=384-64, # selected to stay under 384 max size for all-mpnet-base-v2\n",
        "\n",
        "    chunk_overlap=50, # arbitrarily pick how much across chunks\n",
        "\n",
        "    add_start_index=True,  # If `True`, includes chunk's start index in metadata\n",
        "\n",
        "    strip_whitespace=True,  # If `True`, strips whitespace from the start and end of every document\n",
        "\n",
        "    separators=TEXT_SEPARATORS,\n",
        "\n",
        ")\n",
        "\n",
        "texts = []\n",
        "\n",
        "metadatas = []\n",
        "\n",
        "\n",
        "\n",
        "for _, row in df.iterrows():\n",
        "\n",
        "    try:\n",
        "\n",
        "      chunks = text_splitter.split_text(row['text'])\n",
        "\n",
        "      texts.extend(chunks)\n",
        "\n",
        "      metadatas.extend([{'source': row['source']}] * len(chunks))\n",
        "\n",
        "    except:\n",
        "\n",
        "      print(f\"source {row['source']} corrupted\")"
      ],
      "metadata": {
        "id": "oZlCrH_Sb8mF",
        "trusted": true,
        "execution": {
          "iopub.status.busy": "2024-10-22T19:22:23.990737Z",
          "iopub.execute_input": "2024-10-22T19:22:23.991580Z",
          "iopub.status.idle": "2024-10-22T19:22:30.164664Z",
          "shell.execute_reply.started": "2024-10-22T19:22:23.991541Z",
          "shell.execute_reply": "2024-10-22T19:22:30.163829Z"
        },
        "colab": {
          "base_uri": "https://localhost:8080/"
        },
        "outputId": "2f3a1365-5aa7-453e-b706-ee99affa504e"
      },
      "outputs": [
        {
          "output_type": "stream",
          "name": "stdout",
          "text": [
            "source https://onestoppgh.pittsburghpa.gov/pghprod/pub/lms/Login.aspx corrupted\n",
            "source https://www.cmu.edu/dietrich/rss-feeds/news-rss.rss corrupted\n"
          ]
        }
      ],
      "execution_count": 4
    },
    {
      "cell_type": "code",
      "source": [
        "lengths = [len(text) for text in texts]\n",
        "\n",
        "# Plot the distribution of text lengths, counted as the number of tokens\n",
        "\n",
        "import matplotlib.pyplot as plt\n",
        "\n",
        "fig = pd.Series(lengths).hist()\n",
        "\n",
        "plt.title(\"Distribution of document lengths in the knowledge base (in count of tokens)\")\n",
        "\n",
        "plt.show()"
      ],
      "metadata": {
        "id": "lLYIznRkeDQ4",
        "trusted": true,
        "execution": {
          "iopub.status.busy": "2024-10-22T19:22:30.201058Z",
          "iopub.execute_input": "2024-10-22T19:22:30.201618Z",
          "iopub.status.idle": "2024-10-22T19:22:30.565848Z",
          "shell.execute_reply.started": "2024-10-22T19:22:30.201582Z",
          "shell.execute_reply": "2024-10-22T19:22:30.564923Z"
        },
        "colab": {
          "base_uri": "https://localhost:8080/",
          "height": 452
        },
        "outputId": "0a24cc69-8b57-436b-fa2c-c967c8d90d29"
      },
      "outputs": [
        {
          "output_type": "display_data",
          "data": {
            "text/plain": [
              "<Figure size 640x480 with 1 Axes>"
            ],
            "image/png": "[encoded data removed]"
          },
          "metadata": {}
        }
      ],
      "execution_count": 5
    },
    {
      "cell_type": "code",
      "source": [
        "import faiss\n",
        "import numpy as np\n",
        "from sklearn.decomposition import PCA\n",
        "from sklearn.preprocessing import normalize\n",
        "from transformers import AutoTokenizer, AutoModel\n",
        "import torch"
      ],
      "metadata": {
        "id": "Un1dfaqcY9Oi"
      },
      "execution_count": 22,
      "outputs": []
    },
    {
      "cell_type": "code",
      "source": [
        "# Step 1: Initialize the Hugging Face Embedding Model\n",
        "model_name = 'sentence-transformers/all-mpnet-base-v2'  # Example model\n",
        "tokenizer = AutoTokenizer.from_pretrained(model_name)\n",
        "embedder_model = AutoModel.from_pretrained(model_name)\n",
        "device = torch.device('cuda' if torch.cuda.is_available() else 'cpu')\n",
        "embedder_model.to(device)\n",
        "embedder_model.eval()\n",
        "\n",
        "# Step 2: Define a function to generate embeddings\n",
        "def generate_embeddings(texts, tokenizer, embedder_model, batch_size=32):\n",
        "    embeddings = []\n",
        "    with torch.no_grad():\n",
        "        for i in range(0, len(texts), batch_size):\n",
        "            batch_texts = texts[i:i + batch_size]\n",
        "            inputs = tokenizer(batch_texts, padding=True, truncation=True, return_tensors='pt')\n",
        "            inputs = {key: value.to(device) for key, value in inputs.items()}\n",
        "            outputs = embedder_model(**inputs)\n",
        "            attention_mask = inputs['attention_mask']\n",
        "            embeddings_batch = mean_pooling(outputs, attention_mask)\n",
        "            embeddings.append(embeddings_batch.cpu().numpy())\n",
        "    return np.vstack(embeddings)\n",
        "\n",
        "def mean_pooling(model_output, attention_mask):\n",
        "    token_embeddings = model_output.last_hidden_state\n",
        "    input_mask_expanded = attention_mask.unsqueeze(-1).expand(token_embeddings.size()).float()\n",
        "    sum_embeddings = torch.sum(token_embeddings * input_mask_expanded, dim=1)\n",
        "    sum_mask = torch.clamp(input_mask_expanded.sum(dim=1), min=1e-9)\n",
        "    return sum_embeddings / sum_mask\n",
        "\n",
        "# Step 3: Load your texts\n",
        "# already loaded\n",
        "\n",
        "# Step 4: Generate embeddings\n",
        "embeddings = generate_embeddings(texts, tokenizer, embedder_model, batch_size=32).astype('float32')\n",
        "\n",
        "# Step 5: Dimensionality Reduction\n",
        "pca = PCA(n_components=512)\n",
        "reduced_embeddings = pca.fit_transform(embeddings)\n",
        "\n",
        "# Step 6: Normalize for Cosine Similarity\n",
        "normalized_embeddings = normalize(reduced_embeddings, norm='l2', axis=1)\n",
        "\n",
        "# Step 7: Initialize FAISS Index\n",
        "n_clusters = 1000\n",
        "m = 8\n",
        "nbits = 8\n",
        "quantizer = faiss.IndexFlatL2(normalized_embeddings.shape[1])\n",
        "index = faiss.IndexIVFPQ(quantizer, normalized_embeddings.shape[1], n_clusters, m, nbits)\n",
        "\n",
        "# Step 8: Move Index to GPU and Train\n",
        "res = faiss.StandardGpuResources()\n",
        "gpu_index = faiss.index_cpu_to_gpu(res, 0, index)\n",
        "gpu_index.train(normalized_embeddings)\n",
        "\n",
        "# Step 9: Add Embeddings to the Index\n",
        "gpu_index.add(normalized_embeddings)\n",
        "\n",
        "# Step 10: Define Batch Search Function\n",
        "def batch_search(gpu_index, query_texts, tokenizer, embedder_model, pca, batch_size=32, k=5):\n",
        "    query_embeddings = generate_embeddings(query_texts, tokenizer, embedder_model, batch_size=batch_size)\n",
        "    reduced_queries = pca.transform(query_embeddings)\n",
        "    normalized_queries = normalize(reduced_queries, norm='l2', axis=1)\n",
        "\n",
        "    results = []\n",
        "    for i in range(0, len(normalized_queries), batch_size):\n",
        "        batch = normalized_queries[i:i + batch_size]\n",
        "        D, I = gpu_index.search(batch, k)\n",
        "        results.extend(zip(D, I))\n",
        "    return results"
      ],
      "metadata": {
        "colab": {
          "base_uri": "https://localhost:8080/"
        },
        "id": "8CoC5cGJ3rLV",
        "outputId": "a1966aa5-083b-4230-f19f-bcfb21a6ddd4"
      },
      "execution_count": 24,
      "outputs": [
        {
          "output_type": "stream",
          "name": "stderr",
          "text": [
            "/usr/local/lib/python3.10/dist-packages/transformers/tokenization_utils_base.py:1601: FutureWarning: `clean_up_tokenization_spaces` was not set. It will be set to `True` by default. This behavior will be depracted in transformers v4.45, and will be then set to `False` by default. For more details check this issue: https://github.com/huggingface/transformers/issues/31884\n",
            "  warnings.warn(\n"
          ]
        }
      ]
    },
    {
      "cell_type": "markdown",
      "source": [
        "# Reader"
      ],
      "metadata": {
        "id": "A4de5-jvO0dO"
      }
    },
    {
      "cell_type": "code",
      "source": [
        "def create_template():\n",
        "\n",
        "  prompt_in_chat_format = [\n",
        "\n",
        "    {\n",
        "      \"role\": \"system\",\n",
        "\n",
        "      \"content\": \"\"\"Using the information contained in the context,\n",
        "        give a concise answer to the question.\n",
        "        if possible limit your answer to single or a few words for who, when, where questions.\n",
        "        wherever possible extract name, date, or title without additional explanations.\n",
        "        Respond only to the question asked, response should be concise and relevant to the question.\n",
        "        You should do short answers format responses. DO NOT PUT \"ANSWER\" BEFORE THE ANSWER.\n",
        "        Don't answer in full sentences. For example, say \"12\" instead of \"The answer is 12.\"\n",
        "        \"\"\",\n",
        "      },\n",
        "\n",
        "      {\n",
        "          \"role\": \"user\",\n",
        "          \"content\": \"\"\"Context:\n",
        "          {context}\n",
        "          ---\n",
        "          Here are some examples of question answer pairs:\n",
        "\n",
        "          Who is Pittsburgh named after?\n",
        "          William Pitt\n",
        "\n",
        "          What famous machine learning venue had its first conference in Pittsburgh in 1980?\n",
        "          ICML\n",
        "\n",
        "          What musical artist is performing at PPG Arena on October 13?\n",
        "          Billie Eilish\n",
        "          ---\n",
        "          Don't answer in full sentences. For example, say \"12\" instead of \"The answer is 12.\"\n",
        "          Now here is the question for you to answer:\n",
        "          {question}\n",
        "\n",
        "          \"\"\",\n",
        "      },\n",
        "\n",
        "  ]\n",
        "\n",
        "  RAG_PROMPT_TEMPLATE = inference_tokenizer.apply_chat_template(\n",
        "\n",
        "      prompt_in_chat_format, tokenize=False, add_generation_prompt=True\n",
        "\n",
        "  )\n",
        "\n",
        "  return RAG_PROMPT_TEMPLATE\n",
        "\n",
        "def create_prompts(template, queries, contexts):\n",
        "  return [template.format(question=query, context=context) for query, context in zip(queries, contexts)]\n",
        "\n",
        "def create_contexts(queries, k=5):\n",
        "  search_results = batch_search(gpu_index, queries, tokenizer, embedder_model, pca, batch_size=32, k=k)\n",
        "  contexts = []\n",
        "  for query, (distances, indices) in zip(queries, search_results):\n",
        "    context = \"\\n\\n\".join([texts[i] for i in indices])\n",
        "    contexts.append(context)\n",
        "  return contexts"
      ],
      "metadata": {
        "id": "lygyo49_O1Nf",
        "trusted": true,
        "execution": {
          "iopub.status.busy": "2024-10-22T19:24:04.599103Z",
          "iopub.execute_input": "2024-10-22T19:24:04.599416Z",
          "iopub.status.idle": "2024-10-22T19:24:04.608775Z",
          "shell.execute_reply.started": "2024-10-22T19:24:04.599383Z",
          "shell.execute_reply": "2024-10-22T19:24:04.607818Z"
        }
      },
      "outputs": [],
      "execution_count": 18
    },
    {
      "cell_type": "code",
      "source": [
        "from transformers import pipeline\n",
        "\n",
        "import torch\n",
        "\n",
        "from transformers import AutoTokenizer, AutoModelForCausalLM, BitsAndBytesConfig"
      ],
      "metadata": {
        "id": "pTZ9J3K8aNxQ",
        "trusted": true,
        "execution": {
          "iopub.status.busy": "2024-10-22T19:24:04.609824Z",
          "iopub.execute_input": "2024-10-22T19:24:04.610113Z",
          "iopub.status.idle": "2024-10-22T19:24:05.774867Z",
          "shell.execute_reply.started": "2024-10-22T19:24:04.610081Z",
          "shell.execute_reply": "2024-10-22T19:24:05.773761Z"
        }
      },
      "outputs": [],
      "execution_count": 8
    },
    {
      "cell_type": "code",
      "source": [
        "READER_MODEL_NAME = \"stabilityai/stablelm-zephyr-3b\"\n",
        "\n",
        "bnb_config = BitsAndBytesConfig(\n",
        "\n",
        "    load_in_4bit=True,\n",
        "\n",
        "    bnb_4bit_use_double_quant=True,\n",
        "\n",
        "    bnb_4bit_quant_type=\"nf4\",\n",
        "\n",
        "    bnb_4bit_compute_dtype=torch.bfloat16,\n",
        "\n",
        ")\n",
        "\n",
        "inference_tokenizer = AutoTokenizer.from_pretrained(READER_MODEL_NAME)\n",
        "\n",
        "inference_model = AutoModelForCausalLM.from_pretrained(READER_MODEL_NAME, quantization_config=bnb_config)\n",
        "\n",
        "inference_model.eval()"
      ],
      "metadata": {
        "id": "bfpSbBDQQ46S",
        "trusted": true,
        "execution": {
          "iopub.status.busy": "2024-10-22T19:24:05.776086Z",
          "iopub.execute_input": "2024-10-22T19:24:05.776444Z",
          "iopub.status.idle": "2024-10-22T19:24:40.885212Z",
          "shell.execute_reply.started": "2024-10-22T19:24:05.776407Z",
          "shell.execute_reply": "2024-10-22T19:24:40.884226Z"
        },
        "colab": {
          "base_uri": "https://localhost:8080/"
        },
        "outputId": "d0274c79-abbd-4a81-ec73-7af883200046"
      },
      "outputs": [
        {
          "output_type": "stream",
          "name": "stderr",
          "text": [
            "`low_cpu_mem_usage` was None, now set to True since model is quantized.\n"
          ]
        },
        {
          "output_type": "execute_result",
          "data": {
            "text/plain": [
              "StableLmForCausalLM(\n",
              "  (model): StableLmModel(\n",
              "    (embed_tokens): Embedding(50304, 2560)\n",
              "    (layers): ModuleList(\n",
              "      (0-31): 32 x StableLmDecoderLayer(\n",
              "        (self_attn): StableLmSdpaAttention(\n",
              "          (q_proj): Linear4bit(in_features=2560, out_features=2560, bias=False)\n",
              "          (k_proj): Linear4bit(in_features=2560, out_features=2560, bias=False)\n",
              "          (v_proj): Linear4bit(in_features=2560, out_features=2560, bias=False)\n",
              "          (o_proj): Linear4bit(in_features=2560, out_features=2560, bias=False)\n",
              "          (attention_dropout): Dropout(p=0.0, inplace=False)\n",
              "          (rotary_emb): StableLmRotaryEmbedding()\n",
              "        )\n",
              "        (mlp): StableLmMLP(\n",
              "          (gate_proj): Linear4bit(in_features=2560, out_features=6912, bias=False)\n",
              "          (up_proj): Linear4bit(in_features=2560, out_features=6912, bias=False)\n",
              "          (down_proj): Linear4bit(in_features=6912, out_features=2560, bias=False)\n",
              "          (act_fn): SiLU()\n",
              "        )\n",
              "        (input_layernorm): LayerNorm((2560,), eps=1e-05, elementwise_affine=True)\n",
              "        (post_attention_layernorm): LayerNorm((2560,), eps=1e-05, elementwise_affine=True)\n",
              "        (dropout): Dropout(p=0.0, inplace=False)\n",
              "      )\n",
              "    )\n",
              "    (norm): LayerNorm((2560,), eps=1e-05, elementwise_affine=True)\n",
              "  )\n",
              "  (lm_head): Linear(in_features=2560, out_features=50304, bias=False)\n",
              ")"
            ]
          },
          "metadata": {},
          "execution_count": 13
        }
      ],
      "execution_count": 13
    },
    {
      "cell_type": "code",
      "source": [
        "# Create the prompt template\n",
        "\n",
        "template = create_template()\n",
        "\n",
        "# Initialize LLM Pipeline\n",
        "\n",
        "READER_LLM = pipeline(\n",
        "\n",
        "    model=inference_model,\n",
        "\n",
        "    tokenizer=inference_tokenizer,\n",
        "\n",
        "    task=\"text-generation\",\n",
        "\n",
        "    do_sample=True,\n",
        "\n",
        "    temperature=0.01,\n",
        "\n",
        "    repetition_penalty=1.1,\n",
        "\n",
        "    return_full_text=False,\n",
        "\n",
        "    max_new_tokens=50,\n",
        "\n",
        ")"
      ],
      "metadata": {
        "id": "rlVNWiLSWJR4",
        "trusted": true,
        "execution": {
          "iopub.status.busy": "2024-10-22T19:24:40.886553Z",
          "iopub.execute_input": "2024-10-22T19:24:40.886894Z",
          "iopub.status.idle": "2024-10-22T19:24:40.903431Z",
          "shell.execute_reply.started": "2024-10-22T19:24:40.886858Z",
          "shell.execute_reply": "2024-10-22T19:24:40.902390Z"
        }
      },
      "outputs": [],
      "execution_count": 20
    },
    {
      "cell_type": "code",
      "source": [
        "queries = [\"What is the nickname for Pittsburgh?\", \"Who is Pittsburgh named after?\"]\n",
        "\n",
        "contexts = create_contexts(queries, k=10)\n",
        "\n",
        "prompts = create_prompts(template, queries, contexts)\n",
        "\n",
        "for prompt in prompts:\n",
        "\n",
        "  print(READER_LLM(prompt)[0]['generated_text'])"
      ],
      "metadata": {
        "id": "KFcCtWWWWqK3",
        "trusted": true,
        "execution": {
          "iopub.status.busy": "2024-10-22T19:24:40.904742Z",
          "iopub.execute_input": "2024-10-22T19:24:40.905407Z",
          "iopub.status.idle": "2024-10-22T19:25:04.592162Z",
          "shell.execute_reply.started": "2024-10-22T19:24:40.905346Z",
          "shell.execute_reply": "2024-10-22T19:25:04.591231Z"
        },
        "colab": {
          "base_uri": "https://localhost:8080/"
        },
        "outputId": "d5216b18-7e0d-467d-bf09-bb013db0a2fc"
      },
      "outputs": [
        {
          "output_type": "stream",
          "name": "stdout",
          "text": [
            "Answer: Steel City\n",
            "Pittsburgh is named after William Pitt.\n"
          ]
        }
      ],
      "execution_count": 25
    },
    {
      "cell_type": "code",
      "source": [
        "from tqdm import tqdm\n",
        "\n",
        "def get_answer(questions):\n",
        "\n",
        "    # Simulating a RAG system query\n",
        "\n",
        "    contexts = create_contexts(questions, k=10)\n",
        "\n",
        "    prompts = create_prompts(template, questions, contexts)\n",
        "\n",
        "    answers = []\n",
        "\n",
        "    for prompt in tqdm(prompts):\n",
        "        answers.append(READER_LLM(prompt)[0]['generated_text'])\n",
        "\n",
        "    return answers\n",
        "\n",
        "def generate_answers(input_file, output_file, batch_size=32):\n",
        "\n",
        "    with open(input_file, 'r') as file:\n",
        "\n",
        "        questions = file.readlines()\n",
        "\n",
        "    answers = []\n",
        "\n",
        "    print(\"Number of Batches: \" + str(len(questions)))\n",
        "\n",
        "    # Split questions into batches\n",
        "    for i in tqdm(range(0, len(questions), batch_size)):\n",
        "        batch_questions = questions[i:i + batch_size]  # Get a batch of questions\n",
        "        batch_questions = [q.strip() for q in batch_questions if q.strip()]  # Remove empty lines\n",
        "\n",
        "        # Get answers for the batch\n",
        "        batch_answers = get_answer(batch_questions)  # Call get_answer with the batch\n",
        "\n",
        "        # Append answers to the main list\n",
        "        for index, answer in enumerate(batch_answers):\n",
        "            answers.append(f'{answer}')  # Adjust question numbering\n",
        "\n",
        "\n",
        "    with open(output_file, 'w') as file:\n",
        "\n",
        "        for answer in answers:\n",
        "\n",
        "            file.write(answer.replace(\"\\n\", \"\\t\") + '\\n') # need replace for formatting reasons\n",
        "\n",
        "            print(answer)  # Print each answer as it's generated"
      ],
      "metadata": {
        "id": "Om0Hwr2mCT5L",
        "trusted": true,
        "execution": {
          "iopub.status.busy": "2024-10-22T19:32:27.554545Z",
          "iopub.execute_input": "2024-10-22T19:32:27.555420Z",
          "iopub.status.idle": "2024-10-22T19:32:27.565955Z",
          "shell.execute_reply.started": "2024-10-22T19:32:27.555363Z",
          "shell.execute_reply": "2024-10-22T19:32:27.564594Z"
        }
      },
      "outputs": [],
      "execution_count": 47
    },
    {
      "cell_type": "code",
      "source": [
        "# Usage example:\n",
        "\n",
        "generate_answers(\"questions.txt\", \"generated_answers.txt\")"
      ],
      "metadata": {
        "id": "HCVCF2Vo1MBE",
        "trusted": true,
        "execution": {
          "iopub.status.busy": "2024-10-22T19:55:27.514069Z",
          "iopub.execute_input": "2024-10-22T19:55:27.514497Z",
          "iopub.status.idle": "2024-10-22T19:55:55.950096Z",
          "shell.execute_reply.started": "2024-10-22T19:55:27.514457Z",
          "shell.execute_reply": "2024-10-22T19:55:55.947251Z"
        },
        "colab": {
          "base_uri": "https://localhost:8080/"
        },
        "outputId": "4732a273-1386-43f7-8805-5a7e2b9ca55c"
      },
      "outputs": [
        {
          "output_type": "stream",
          "name": "stdout",
          "text": [
            "Number of Q's: 57\n"
          ]
        },
        {
          "output_type": "stream",
          "name": "stderr",
          "text": [
            "  0%|          | 0/2 [00:00<?, ?it/s]\n",
            "  0%|          | 0/32 [00:00<?, ?it/s]\u001b[A\n",
            "  3%|▎         | 1/32 [00:04<02:06,  4.09s/it]\u001b[A\n",
            "  6%|▋         | 2/32 [00:06<01:37,  3.24s/it]\u001b[A\n",
            "  9%|▉         | 3/32 [00:09<01:27,  3.03s/it]\u001b[A\n",
            " 12%|█▎        | 4/32 [00:13<01:34,  3.39s/it]\u001b[A\n",
            " 16%|█▌        | 5/32 [00:17<01:35,  3.52s/it]\u001b[A\n",
            " 19%|█▉        | 6/32 [00:19<01:20,  3.08s/it]\u001b[AYou seem to be using the pipelines sequentially on GPU. In order to maximize efficiency please use a dataset\n",
            "\n",
            " 22%|██▏       | 7/32 [00:24<01:37,  3.89s/it]\u001b[A\n",
            " 25%|██▌       | 8/32 [00:29<01:36,  4.03s/it]\u001b[A\n",
            " 28%|██▊       | 9/32 [00:32<01:24,  3.68s/it]\u001b[A\n",
            " 31%|███▏      | 10/32 [00:35<01:16,  3.48s/it]\u001b[A\n",
            " 34%|███▍      | 11/32 [00:37<01:07,  3.23s/it]\u001b[A\n",
            " 38%|███▊      | 12/32 [00:41<01:09,  3.47s/it]\u001b[A\n",
            " 41%|████      | 13/32 [00:48<01:24,  4.46s/it]\u001b[A\n",
            " 44%|████▍     | 14/32 [00:50<01:06,  3.72s/it]\u001b[A\n",
            " 47%|████▋     | 15/32 [00:55<01:07,  3.97s/it]\u001b[A\n",
            " 50%|█████     | 16/32 [01:00<01:12,  4.50s/it]\u001b[A\n",
            " 53%|█████▎    | 17/32 [01:03<00:58,  3.90s/it]\u001b[A\n",
            " 56%|█████▋    | 18/32 [01:07<00:55,  3.95s/it]\u001b[A\n",
            " 59%|█████▉    | 19/32 [01:12<00:54,  4.16s/it]\u001b[A\n",
            " 62%|██████▎   | 20/32 [01:15<00:45,  3.83s/it]\u001b[A\n",
            " 66%|██████▌   | 21/32 [01:17<00:38,  3.47s/it]\u001b[A\n",
            " 69%|██████▉   | 22/32 [01:23<00:40,  4.05s/it]\u001b[A\n",
            " 72%|███████▏  | 23/32 [01:27<00:35,  3.95s/it]\u001b[A\n",
            " 75%|███████▌  | 24/32 [01:31<00:33,  4.15s/it]\u001b[A\n",
            " 78%|███████▊  | 25/32 [01:35<00:28,  4.08s/it]\u001b[A\n",
            " 81%|████████▏ | 26/32 [01:40<00:26,  4.46s/it]\u001b[A\n",
            " 84%|████████▍ | 27/32 [01:43<00:20,  4.04s/it]\u001b[A\n",
            " 88%|████████▊ | 28/32 [01:49<00:17,  4.43s/it]\u001b[A\n",
            " 91%|█████████ | 29/32 [01:51<00:11,  3.77s/it]\u001b[A\n",
            " 94%|█████████▍| 30/32 [01:55<00:07,  3.98s/it]\u001b[A\n",
            " 97%|█████████▋| 31/32 [02:01<00:04,  4.52s/it]\u001b[A\n",
            "100%|██████████| 32/32 [02:04<00:00,  3.90s/it]\n",
            " 50%|█████     | 1/2 [02:04<02:04, 124.97s/it]\n",
            "  0%|          | 0/25 [00:00<?, ?it/s]\u001b[A\n",
            "  4%|▍         | 1/25 [00:04<01:46,  4.43s/it]\u001b[A\n",
            "  8%|▊         | 2/25 [00:08<01:34,  4.10s/it]\u001b[A\n",
            " 12%|█▏        | 3/25 [00:10<01:09,  3.18s/it]\u001b[A\n",
            " 16%|█▌        | 4/25 [00:12<00:58,  2.80s/it]\u001b[A\n",
            " 20%|██        | 5/25 [00:15<00:59,  2.98s/it]\u001b[A\n",
            " 24%|██▍       | 6/25 [00:19<01:01,  3.24s/it]\u001b[A\n",
            " 28%|██▊       | 7/25 [00:22<00:56,  3.12s/it]\u001b[A\n",
            " 32%|███▏      | 8/25 [00:24<00:46,  2.75s/it]\u001b[A\n",
            " 36%|███▌      | 9/25 [00:26<00:39,  2.47s/it]\u001b[A\n",
            " 40%|████      | 10/25 [00:31<00:47,  3.20s/it]\u001b[A\n",
            " 44%|████▍     | 11/25 [00:33<00:42,  3.05s/it]\u001b[A\n",
            " 48%|████▊     | 12/25 [00:35<00:35,  2.76s/it]\u001b[A\n",
            " 52%|█████▏    | 13/25 [00:40<00:39,  3.29s/it]\u001b[A\n",
            " 56%|█████▌    | 14/25 [00:44<00:39,  3.63s/it]\u001b[A\n",
            " 60%|██████    | 15/25 [00:46<00:30,  3.07s/it]\u001b[A\n",
            " 64%|██████▍   | 16/25 [00:48<00:24,  2.70s/it]\u001b[A\n",
            " 68%|██████▊   | 17/25 [00:50<00:19,  2.42s/it]\u001b[A\n",
            " 72%|███████▏  | 18/25 [00:53<00:18,  2.58s/it]\u001b[A\n",
            " 76%|███████▌  | 19/25 [00:55<00:14,  2.49s/it]\u001b[A\n",
            " 80%|████████  | 20/25 [00:58<00:13,  2.65s/it]\u001b[A\n",
            " 84%|████████▍ | 21/25 [01:01<00:11,  2.88s/it]\u001b[A\n",
            " 88%|████████▊ | 22/25 [01:03<00:07,  2.60s/it]\u001b[A\n",
            " 92%|█████████▏| 23/25 [01:05<00:04,  2.42s/it]\u001b[A\n",
            " 96%|█████████▌| 24/25 [01:13<00:03,  3.85s/it]\u001b[A\n",
            "100%|██████████| 25/25 [01:15<00:00,  3.01s/it]\n",
            "100%|██████████| 2/2 [03:20<00:00, 100.19s/it]"
          ]
        },
        {
          "output_type": "stream",
          "name": "stdout",
          "text": [
            "Question 1: Answer: Not applicable, as the context provided does not contain information about the Pirates' first home game of the 2025 season.\n",
            "Question 2: Ben Roethlisberger\n",
            "Question 3: October 23, 6:00 PM - 9:00 PM\n",
            "Question 4: Pittsburgh won their first Super Bowl title in 1972.\n",
            "Question 5: Top Dog House booth for 2023 at CMU's Spring Carnival: Society of Asian Scientists and Engineers\n",
            "Question 6: Answer: Ke’Bryan Hayes\n",
            "Question 7: Tre Tipton – 2021 (People's Choice Award)\n",
            "Question 8: April 11, 2025, 7:30 p.m., PA 15222\n",
            "Question 9: Mike Tomlin, hired prior to the 2007 season.\n",
            "Question 10: November 9, 2024, 1:00pm - 3:00pm EST\n",
            "Question 11: 9:30PM-12:30AM\n",
            "Question 12: Title: \"Examining Nation-State Interference in U.S. Elections\"\n",
            "Question 13: Answer: 7:00 PM\n",
            "\n",
            "Extracted information: \n",
            "\n",
            "- Date: Jan 11, 2025\n",
            "- Time: 7:00 PM\n",
            "- Event: Ottawa Senators at Pittsburgh Penguins\n",
            "- Venue: PPG Paints Arena\n",
            "Question 14: 7-10 p.m.\n",
            "Question 15: As of June 12, 2019, Bill Mazeroski is the oldest player on the Pittsburgh Pirates roster, having played for the team from 1955-1972.\n",
            "Question 16: Event: Angelmakers: Songs for Female Serial Killers\n",
            "  Venue: Funhouse @ Mr. Smalls\n",
            "  Date: Not specified in provided context\n",
            "  Host: Not specified in provided context\n",
            "  Description: Concert-play exploring female\n",
            "Question 17: Six. Answer: Six.\n",
            "Question 18: PhD Support Group on October 28, 2024, offered by Jayme Jenkins, PhD.\n",
            "Question 19: Pittsburgh played against the Dallas Cowboys in Week 1 of the regular season. The result was a match held on September 9, 2001, with the Steelers losing 25-23.\n",
            "Question 20: Venue: Carnegie Music Hall\n",
            "Question 21: Acrisure Stadium\n",
            "Question 22: The question you provided doesn't contain information about the specific team the Pirates are facing on May 2, 2025, at home. Therefore, it's impossible to provide a concise answer to this question using the given context.\n",
            "Question 23: Steelers' Week 10 opponents: Baltimore Ravens, Acrisure Stadium (Pittsburgh, PA)\n",
            "Question 24: Chris Boswell is the Pittsburgh Steelers' kicker, and he has been in the NFL for 8 years (2013-2020).\n",
            "Question 25: Rose Way, Near The Warhol. \n",
            "\n",
            "Answer: Limited context provided. Pittsburgh International Auto Show details not available.\n",
            "Question 26: CMU Buggy races include \"Buggy,\" an uphill relay race with batons as vehicles, and downhill gravity racing with speeds up to 40mph and sharp turns. Students design and build aerodynamic cylinders for these races.\n",
            "Question 27: Clemente. Answer: Roberto Clemente.\n",
            "Question 28: Steelers vs. Green Bay Packers, Wisconsin\n",
            "\n",
            "(Note: The user requested a concise answer to the question about the Steelers' opponents and location for Week 3 game, so I provided the names of the teams involved and the location where the\n",
            "Question 29: Jolly Roger Wall\n",
            "Question 30: Answer: RW, 21.\n",
            "Please provide the answer in the requested format: \"Position, Jersey Number\".\n",
            "Question 31: Allegheny County existed prior to 1787, when it was formed from Westmoreland County and became the Sinking Spring Precinct. It later gained its present name, Allegheny County, in 1789.\n",
            "Question 32: Pittsburgh experienced severe flooding in 1936, leading to significant changes in infrastructure.\n",
            "Question 33: Smoke Control Ordinance enforcement and efforts to improve air quality, such as the crowd-sourced air quality monitoring app Smell PGH.\n",
            "Question 34: West Mifflin\n",
            "\n",
            "Answer: National Aviary is located in West Mifflin neighborhood.\n",
            "Question 35: 1863\n",
            "Question 36: High Hill\n",
            "Question 37: Pittsburgh Aviary was designated as the National Aviary in 1924.\n",
            "Question 38: DTP (diphtheria, tetanus, and pertussis) vaccine\n",
            "Question 39: Answer: Point State Park (1,248 feet)\n",
            "Question 40: KDKA-AM\n",
            "Question 41: 1952\n",
            "Question 42: Point Park University established Conservatory Performing Arts offering degree programs in theater, dance, and music-related fields in 1992.\n",
            "Question 43: Monongahela River Trailhead Park\n",
            "Question 44: Scott Fahlman\n",
            "Question 45: PNC Park sits on the banks of the Allegheny River in Pittsburgh's North Side neighborhood, hosting home games for the Pittsburgh Pirates MLB team.\n",
            "Question 46: Margaret Morrison Carnegie College closed in 1969 and merged with other programs at CMU in 1970, becoming Carnegie Mellon University.\n",
            "Question 47: 1875\n",
            "Question 48: 1900\n",
            "Question 49: Walter Brattain\n",
            "Question 50: Pittsburgh was founded on November 27, 1758.\n",
            "Question 51: 1978\n",
            "Question 52: Fort Stanwix Treaty of 1768\n",
            "Question 53: Pittsburgh's nickname is related to its bridges as \"City of Bridges.\"\n",
            "Question 54: 1921\n",
            "Question 55: Carnegie Mellon University\n",
            "Question 56: Name: Carnegie Mellon University (CMU)\n",
            "Event: Spring Carnival Homecoming Reunion Alumni Awards\n",
            "Date: April 3-5, 2025\n",
            "Question: What annual event showcases student projects and research across disciplines at CMU\n",
            "Question 57: Picklesburgh\n"
          ]
        },
        {
          "output_type": "stream",
          "name": "stderr",
          "text": [
            "\n"
          ]
        }
      ],
      "execution_count": 27
    },
    {
      "cell_type": "markdown",
      "source": [
        "# Evaluation"
      ],
      "metadata": {
        "id": "C5r65cE30nM_"
      }
    },
    {
      "cell_type": "code",
      "source": [
        "import re\n",
        "from collections import Counter\n",
        "from sklearn.metrics import f1_score\n",
        "\n",
        "\n",
        "# Function to normalize text by removing articles and punctuation and lowercasing\n",
        "\n",
        "def normalize_answer(s):\n",
        "\n",
        "    def remove_articles(text):\n",
        "\n",
        "        return re.sub(r'\\b(a|an|the)\\b', ' ', text)\n",
        "\n",
        "\n",
        "    def remove_punctuation(text):\n",
        "\n",
        "        return re.sub(r'[^\\w\\s]', '', text)\n",
        "\n",
        "\n",
        "\n",
        "    def lowercase(text):\n",
        "\n",
        "        return text.lower()\n",
        "\n",
        "\n",
        "\n",
        "    return remove_articles(remove_punctuation(lowercase(s))).strip()\n",
        "\n",
        "\n",
        "\n",
        "# Function to compute Exact Match (EM)\n",
        "\n",
        "def exact_match_score(prediction, ground_truth):\n",
        "\n",
        "    return int(normalize_answer(prediction) == normalize_answer(ground_truth))\n",
        "\n",
        "\n",
        "\n",
        "# Function to compute F1 Score\n",
        "\n",
        "def f1_score_single(prediction, ground_truth):\n",
        "\n",
        "    prediction_tokens = normalize_answer(prediction).split()\n",
        "\n",
        "    ground_truth_tokens = normalize_answer(ground_truth).split()\n",
        "\n",
        "\n",
        "\n",
        "    common_tokens = Counter(prediction_tokens) & Counter(ground_truth_tokens)\n",
        "\n",
        "    num_same = sum(common_tokens.values())\n",
        "\n",
        "\n",
        "\n",
        "    if num_same == 0:\n",
        "\n",
        "        return 0\n",
        "\n",
        "\n",
        "\n",
        "    precision = num_same / len(prediction_tokens)\n",
        "\n",
        "    recall = num_same / len(ground_truth_tokens)\n",
        "\n",
        "    f1 = 2 * (precision * recall) / (precision + recall)\n",
        "\n",
        "\n",
        "\n",
        "    return f1\n",
        "\n",
        "\n",
        "\n",
        "# Function to compute recall\n",
        "\n",
        "def recall_score_single(prediction, ground_truth):\n",
        "\n",
        "    prediction_tokens = normalize_answer(prediction).split()\n",
        "\n",
        "    ground_truth_tokens = normalize_answer(ground_truth).split()\n",
        "\n",
        "\n",
        "\n",
        "    common_tokens = Counter(prediction_tokens) & Counter(ground_truth_tokens)\n",
        "\n",
        "    num_same = sum(common_tokens.values())\n",
        "\n",
        "\n",
        "\n",
        "    if len(ground_truth_tokens) == 0:\n",
        "\n",
        "        return 0\n",
        "\n",
        "    recall = num_same / len(ground_truth_tokens)\n",
        "\n",
        "    return recall"
      ],
      "metadata": {
        "trusted": true,
        "execution": {
          "iopub.status.busy": "2024-10-22T19:25:05.099918Z",
          "iopub.status.idle": "2024-10-22T19:25:05.100323Z",
          "shell.execute_reply.started": "2024-10-22T19:25:05.100110Z",
          "shell.execute_reply": "2024-10-22T19:25:05.100129Z"
        },
        "id": "k7OjTSdG0nM_"
      },
      "outputs": [],
      "execution_count": 44
    },
    {
      "cell_type": "code",
      "source": [
        "# Reading the reference and generated answers\n",
        "\n",
        "with open('reference_answers.txt', 'r') as f:\n",
        "\n",
        "    reference_answers = f.readlines()\n",
        "\n",
        "\n",
        "\n",
        "with open('generated_answers.txt', 'r') as f:\n",
        "\n",
        "    generated_answers = f.readlines()\n",
        "\n",
        "\n",
        "\n",
        "# Ensure the files have the same number of answers\n",
        "\n",
        "assert len(reference_answers) == len(generated_answers), \"Mismatch in number of answers.\""
      ],
      "metadata": {
        "trusted": true,
        "execution": {
          "iopub.status.busy": "2024-10-22T19:25:05.101925Z",
          "iopub.status.idle": "2024-10-22T19:25:05.102288Z",
          "shell.execute_reply.started": "2024-10-22T19:25:05.102099Z",
          "shell.execute_reply": "2024-10-22T19:25:05.102116Z"
        },
        "id": "wSWxeuvU0nNA"
      },
      "outputs": [],
      "execution_count": 45
    },
    {
      "cell_type": "code",
      "source": [
        "# Evaluation metrics\n",
        "\n",
        "total_em = 0\n",
        "\n",
        "total_f1 = 0\n",
        "\n",
        "total_recall = 0\n",
        "\n",
        "\n",
        "\n",
        "# Iterate over all answers and compute metrics\n",
        "\n",
        "for ref_answer, gen_answer in zip(reference_answers, generated_answers):\n",
        "\n",
        "    em = exact_match_score(gen_answer.strip(), ref_answer.strip())\n",
        "\n",
        "    f1 = f1_score_single(gen_answer.strip(), ref_answer.strip())\n",
        "\n",
        "    recall = recall_score_single(gen_answer.strip(), ref_answer.strip())\n",
        "\n",
        "\n",
        "\n",
        "    total_em += em\n",
        "\n",
        "    total_f1 += f1\n",
        "\n",
        "    total_recall += recall\n",
        "\n",
        "# Average the metrics over all the questions\n",
        "\n",
        "num_questions = len(reference_answers)\n",
        "\n",
        "average_em = total_em / num_questions\n",
        "\n",
        "average_f1 = total_f1 / num_questions\n",
        "\n",
        "average_recall = total_recall / num_questions\n",
        "\n",
        "\n",
        "\n",
        "# Display the results\n",
        "\n",
        "print(f\"Exact Match: {average_em * 100:.2f}%\")\n",
        "\n",
        "print(f\"F1 Score: {average_f1 * 100:.2f}%\")\n",
        "\n",
        "print(f\"Recall: {average_recall * 100:.2f}%\")"
      ],
      "metadata": {
        "trusted": true,
        "execution": {
          "iopub.status.busy": "2024-10-22T19:25:05.103716Z",
          "iopub.status.idle": "2024-10-22T19:25:05.104199Z",
          "shell.execute_reply.started": "2024-10-22T19:25:05.103892Z",
          "shell.execute_reply": "2024-10-22T19:25:05.103911Z"
        },
        "colab": {
          "base_uri": "https://localhost:8080/"
        },
        "id": "F5TNkxRr0nNA",
        "outputId": "514b308b-d65d-401e-9082-9068fbe8a214"
      },
      "outputs": [
        {
          "output_type": "stream",
          "name": "stdout",
          "text": [
            "Exact Match: 5.26%\n",
            "F1 Score: 25.77%\n",
            "Recall: 36.43%\n"
          ]
        }
      ],
      "execution_count": 46
    }
  ]
}